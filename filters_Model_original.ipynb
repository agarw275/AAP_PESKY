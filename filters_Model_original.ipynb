{
 "cells": [
  {
   "cell_type": "code",
   "execution_count": 1,
   "id": "048eddfa",
   "metadata": {},
   "outputs": [],
   "source": [
    "import numpy as np\n",
    "import pandas as pd\n",
    "import matplotlib.pyplot as plt\n",
    "%matplotlib inline\n",
    "import seaborn as sns\n",
    "import math as math\n",
    "import random as rd\n",
    "rd.seed(123)\n",
    "\n",
    "from sklearn.linear_model import LogisticRegression\n",
    "from sklearn.metrics import accuracy_score, confusion_matrix\n",
    "from sklearn.preprocessing import StandardScaler\n",
    "from sklearn.model_selection import train_test_split"
   ]
  },
  {
   "cell_type": "code",
   "execution_count": 2,
   "id": "c3e0ee05",
   "metadata": {},
   "outputs": [
    {
     "name": "stdout",
     "output_type": "stream",
     "text": [
      "(16228766, 36)\n",
      "(16228180, 36)\n",
      "4304\n"
     ]
    }
   ],
   "source": [
    "filters_pi_prev=pd.read_csv('/home/jsanmar/Downloads/filters_pi_full_filtered.csv')\n",
    "filters_pi=filters_pi_prev.loc[filters_pi_prev[\"STORE_NUMBER\"] != 1020]\n",
    "print(filters_pi_prev.shape)\n",
    "print(filters_pi.shape)\n",
    "print(filters_pi.SKU_NUMBER.nunique())"
   ]
  },
  {
   "cell_type": "code",
   "execution_count": 3,
   "id": "ba814bd6",
   "metadata": {},
   "outputs": [
    {
     "data": {
      "text/html": [
       "<div>\n",
       "<style scoped>\n",
       "    .dataframe tbody tr th:only-of-type {\n",
       "        vertical-align: middle;\n",
       "    }\n",
       "\n",
       "    .dataframe tbody tr th {\n",
       "        vertical-align: top;\n",
       "    }\n",
       "\n",
       "    .dataframe thead th {\n",
       "        text-align: right;\n",
       "    }\n",
       "</style>\n",
       "<table border=\"1\" class=\"dataframe\">\n",
       "  <thead>\n",
       "    <tr style=\"text-align: right;\">\n",
       "      <th></th>\n",
       "      <th>SKU_NUMBER</th>\n",
       "      <th>STORE_NUMBER</th>\n",
       "      <th>APPLICATION_COUNT</th>\n",
       "      <th>ESTABLISHMENTS</th>\n",
       "      <th>SKU_EXISTENCE_PY</th>\n",
       "      <th>SKU_STORE_PDQ_PY</th>\n",
       "      <th>TOTAL_VIO_PY</th>\n",
       "      <th>UNADJUSTED_TOTAL_VIO_PY</th>\n",
       "      <th>SS_SALES_PY</th>\n",
       "      <th>AVG_CLUSTER_UNIT_SALES_PY</th>\n",
       "      <th>...</th>\n",
       "      <th>ppy_gross_sales</th>\n",
       "      <th>py_sales_cost</th>\n",
       "      <th>ppy_sales_cost</th>\n",
       "      <th>LOOKUP_CNT_PY</th>\n",
       "      <th>WEIGHTED_LOOKUP_CNT_PY</th>\n",
       "      <th>py_qty_sold_transfer</th>\n",
       "      <th>py_qty_sold_on_hand</th>\n",
       "      <th>ppy_qty_sold_transfer</th>\n",
       "      <th>ppy_qty_sold_on_hand</th>\n",
       "      <th>fy_ts_forecast</th>\n",
       "    </tr>\n",
       "  </thead>\n",
       "  <tbody>\n",
       "    <tr>\n",
       "      <th>0</th>\n",
       "      <td>5792231</td>\n",
       "      <td>2127</td>\n",
       "      <td>306</td>\n",
       "      <td>391.12</td>\n",
       "      <td>11</td>\n",
       "      <td>11</td>\n",
       "      <td>40.151981</td>\n",
       "      <td>3380.0</td>\n",
       "      <td>0.0</td>\n",
       "      <td>1.07</td>\n",
       "      <td>...</td>\n",
       "      <td>26.96</td>\n",
       "      <td>7.05</td>\n",
       "      <td>7.33</td>\n",
       "      <td>0.0</td>\n",
       "      <td>0.0</td>\n",
       "      <td>0.0</td>\n",
       "      <td>3.0</td>\n",
       "      <td>0.0</td>\n",
       "      <td>4.0</td>\n",
       "      <td>4629.0</td>\n",
       "    </tr>\n",
       "    <tr>\n",
       "      <th>1</th>\n",
       "      <td>10162622</td>\n",
       "      <td>4810</td>\n",
       "      <td>13</td>\n",
       "      <td>495.39</td>\n",
       "      <td>11</td>\n",
       "      <td>11</td>\n",
       "      <td>1.001354</td>\n",
       "      <td>230.0</td>\n",
       "      <td>0.0</td>\n",
       "      <td>0.00</td>\n",
       "      <td>...</td>\n",
       "      <td>0.00</td>\n",
       "      <td>0.00</td>\n",
       "      <td>0.00</td>\n",
       "      <td>0.0</td>\n",
       "      <td>0.0</td>\n",
       "      <td>0.0</td>\n",
       "      <td>0.0</td>\n",
       "      <td>0.0</td>\n",
       "      <td>0.0</td>\n",
       "      <td>52.0</td>\n",
       "    </tr>\n",
       "    <tr>\n",
       "      <th>2</th>\n",
       "      <td>5792231</td>\n",
       "      <td>4165</td>\n",
       "      <td>306</td>\n",
       "      <td>397.98</td>\n",
       "      <td>11</td>\n",
       "      <td>11</td>\n",
       "      <td>40.958593</td>\n",
       "      <td>2498.0</td>\n",
       "      <td>0.0</td>\n",
       "      <td>1.45</td>\n",
       "      <td>...</td>\n",
       "      <td>5.95</td>\n",
       "      <td>0.00</td>\n",
       "      <td>1.68</td>\n",
       "      <td>0.0</td>\n",
       "      <td>0.0</td>\n",
       "      <td>0.0</td>\n",
       "      <td>0.0</td>\n",
       "      <td>0.0</td>\n",
       "      <td>1.0</td>\n",
       "      <td>4629.0</td>\n",
       "    </tr>\n",
       "    <tr>\n",
       "      <th>3</th>\n",
       "      <td>10162622</td>\n",
       "      <td>1039</td>\n",
       "      <td>13</td>\n",
       "      <td>186.72</td>\n",
       "      <td>11</td>\n",
       "      <td>11</td>\n",
       "      <td>0.546644</td>\n",
       "      <td>57.0</td>\n",
       "      <td>0.0</td>\n",
       "      <td>0.00</td>\n",
       "      <td>...</td>\n",
       "      <td>0.00</td>\n",
       "      <td>0.00</td>\n",
       "      <td>0.00</td>\n",
       "      <td>0.0</td>\n",
       "      <td>0.0</td>\n",
       "      <td>0.0</td>\n",
       "      <td>0.0</td>\n",
       "      <td>0.0</td>\n",
       "      <td>0.0</td>\n",
       "      <td>52.0</td>\n",
       "    </tr>\n",
       "    <tr>\n",
       "      <th>4</th>\n",
       "      <td>5792231</td>\n",
       "      <td>4500</td>\n",
       "      <td>306</td>\n",
       "      <td>414.78</td>\n",
       "      <td>11</td>\n",
       "      <td>11</td>\n",
       "      <td>46.369579</td>\n",
       "      <td>6725.0</td>\n",
       "      <td>0.0</td>\n",
       "      <td>1.31</td>\n",
       "      <td>...</td>\n",
       "      <td>13.98</td>\n",
       "      <td>9.40</td>\n",
       "      <td>3.36</td>\n",
       "      <td>0.0</td>\n",
       "      <td>0.0</td>\n",
       "      <td>0.0</td>\n",
       "      <td>4.0</td>\n",
       "      <td>0.0</td>\n",
       "      <td>2.0</td>\n",
       "      <td>4629.0</td>\n",
       "    </tr>\n",
       "    <tr>\n",
       "      <th>...</th>\n",
       "      <td>...</td>\n",
       "      <td>...</td>\n",
       "      <td>...</td>\n",
       "      <td>...</td>\n",
       "      <td>...</td>\n",
       "      <td>...</td>\n",
       "      <td>...</td>\n",
       "      <td>...</td>\n",
       "      <td>...</td>\n",
       "      <td>...</td>\n",
       "      <td>...</td>\n",
       "      <td>...</td>\n",
       "      <td>...</td>\n",
       "      <td>...</td>\n",
       "      <td>...</td>\n",
       "      <td>...</td>\n",
       "      <td>...</td>\n",
       "      <td>...</td>\n",
       "      <td>...</td>\n",
       "      <td>...</td>\n",
       "      <td>...</td>\n",
       "    </tr>\n",
       "    <tr>\n",
       "      <th>16228761</th>\n",
       "      <td>10972414</td>\n",
       "      <td>6967</td>\n",
       "      <td>21</td>\n",
       "      <td>194.58</td>\n",
       "      <td>11</td>\n",
       "      <td>11</td>\n",
       "      <td>0.428148</td>\n",
       "      <td>24.0</td>\n",
       "      <td>0.0</td>\n",
       "      <td>0.00</td>\n",
       "      <td>...</td>\n",
       "      <td>0.00</td>\n",
       "      <td>0.00</td>\n",
       "      <td>0.00</td>\n",
       "      <td>0.0</td>\n",
       "      <td>0.0</td>\n",
       "      <td>0.0</td>\n",
       "      <td>0.0</td>\n",
       "      <td>0.0</td>\n",
       "      <td>0.0</td>\n",
       "      <td>11.0</td>\n",
       "    </tr>\n",
       "    <tr>\n",
       "      <th>16228762</th>\n",
       "      <td>10972414</td>\n",
       "      <td>7471</td>\n",
       "      <td>21</td>\n",
       "      <td>130.10</td>\n",
       "      <td>11</td>\n",
       "      <td>11</td>\n",
       "      <td>0.021816</td>\n",
       "      <td>15.0</td>\n",
       "      <td>0.0</td>\n",
       "      <td>0.00</td>\n",
       "      <td>...</td>\n",
       "      <td>0.00</td>\n",
       "      <td>0.00</td>\n",
       "      <td>0.00</td>\n",
       "      <td>0.0</td>\n",
       "      <td>0.0</td>\n",
       "      <td>0.0</td>\n",
       "      <td>0.0</td>\n",
       "      <td>0.0</td>\n",
       "      <td>0.0</td>\n",
       "      <td>11.0</td>\n",
       "    </tr>\n",
       "    <tr>\n",
       "      <th>16228763</th>\n",
       "      <td>10972414</td>\n",
       "      <td>7775</td>\n",
       "      <td>21</td>\n",
       "      <td>672.87</td>\n",
       "      <td>11</td>\n",
       "      <td>11</td>\n",
       "      <td>1.269393</td>\n",
       "      <td>32.0</td>\n",
       "      <td>0.0</td>\n",
       "      <td>0.00</td>\n",
       "      <td>...</td>\n",
       "      <td>0.00</td>\n",
       "      <td>0.00</td>\n",
       "      <td>0.00</td>\n",
       "      <td>0.0</td>\n",
       "      <td>0.0</td>\n",
       "      <td>0.0</td>\n",
       "      <td>0.0</td>\n",
       "      <td>0.0</td>\n",
       "      <td>0.0</td>\n",
       "      <td>11.0</td>\n",
       "    </tr>\n",
       "    <tr>\n",
       "      <th>16228764</th>\n",
       "      <td>10972414</td>\n",
       "      <td>8409</td>\n",
       "      <td>21</td>\n",
       "      <td>450.59</td>\n",
       "      <td>11</td>\n",
       "      <td>11</td>\n",
       "      <td>0.162839</td>\n",
       "      <td>19.0</td>\n",
       "      <td>0.0</td>\n",
       "      <td>0.00</td>\n",
       "      <td>...</td>\n",
       "      <td>0.00</td>\n",
       "      <td>0.00</td>\n",
       "      <td>0.00</td>\n",
       "      <td>0.0</td>\n",
       "      <td>0.0</td>\n",
       "      <td>0.0</td>\n",
       "      <td>0.0</td>\n",
       "      <td>0.0</td>\n",
       "      <td>0.0</td>\n",
       "      <td>11.0</td>\n",
       "    </tr>\n",
       "    <tr>\n",
       "      <th>16228765</th>\n",
       "      <td>10972414</td>\n",
       "      <td>6840</td>\n",
       "      <td>21</td>\n",
       "      <td>1551.65</td>\n",
       "      <td>11</td>\n",
       "      <td>11</td>\n",
       "      <td>0.010395</td>\n",
       "      <td>25.0</td>\n",
       "      <td>0.0</td>\n",
       "      <td>0.00</td>\n",
       "      <td>...</td>\n",
       "      <td>0.00</td>\n",
       "      <td>0.00</td>\n",
       "      <td>0.00</td>\n",
       "      <td>0.0</td>\n",
       "      <td>0.0</td>\n",
       "      <td>0.0</td>\n",
       "      <td>0.0</td>\n",
       "      <td>0.0</td>\n",
       "      <td>0.0</td>\n",
       "      <td>11.0</td>\n",
       "    </tr>\n",
       "  </tbody>\n",
       "</table>\n",
       "<p>16228180 rows × 36 columns</p>\n",
       "</div>"
      ],
      "text/plain": [
       "          SKU_NUMBER  STORE_NUMBER  APPLICATION_COUNT  ESTABLISHMENTS  \\\n",
       "0            5792231          2127                306          391.12   \n",
       "1           10162622          4810                 13          495.39   \n",
       "2            5792231          4165                306          397.98   \n",
       "3           10162622          1039                 13          186.72   \n",
       "4            5792231          4500                306          414.78   \n",
       "...              ...           ...                ...             ...   \n",
       "16228761    10972414          6967                 21          194.58   \n",
       "16228762    10972414          7471                 21          130.10   \n",
       "16228763    10972414          7775                 21          672.87   \n",
       "16228764    10972414          8409                 21          450.59   \n",
       "16228765    10972414          6840                 21         1551.65   \n",
       "\n",
       "          SKU_EXISTENCE_PY  SKU_STORE_PDQ_PY  TOTAL_VIO_PY  \\\n",
       "0                       11                11     40.151981   \n",
       "1                       11                11      1.001354   \n",
       "2                       11                11     40.958593   \n",
       "3                       11                11      0.546644   \n",
       "4                       11                11     46.369579   \n",
       "...                    ...               ...           ...   \n",
       "16228761                11                11      0.428148   \n",
       "16228762                11                11      0.021816   \n",
       "16228763                11                11      1.269393   \n",
       "16228764                11                11      0.162839   \n",
       "16228765                11                11      0.010395   \n",
       "\n",
       "          UNADJUSTED_TOTAL_VIO_PY  SS_SALES_PY  AVG_CLUSTER_UNIT_SALES_PY  \\\n",
       "0                          3380.0          0.0                       1.07   \n",
       "1                           230.0          0.0                       0.00   \n",
       "2                          2498.0          0.0                       1.45   \n",
       "3                            57.0          0.0                       0.00   \n",
       "4                          6725.0          0.0                       1.31   \n",
       "...                           ...          ...                        ...   \n",
       "16228761                     24.0          0.0                       0.00   \n",
       "16228762                     15.0          0.0                       0.00   \n",
       "16228763                     32.0          0.0                       0.00   \n",
       "16228764                     19.0          0.0                       0.00   \n",
       "16228765                     25.0          0.0                       0.00   \n",
       "\n",
       "          ...  ppy_gross_sales  py_sales_cost  ppy_sales_cost  LOOKUP_CNT_PY  \\\n",
       "0         ...            26.96           7.05            7.33            0.0   \n",
       "1         ...             0.00           0.00            0.00            0.0   \n",
       "2         ...             5.95           0.00            1.68            0.0   \n",
       "3         ...             0.00           0.00            0.00            0.0   \n",
       "4         ...            13.98           9.40            3.36            0.0   \n",
       "...       ...              ...            ...             ...            ...   \n",
       "16228761  ...             0.00           0.00            0.00            0.0   \n",
       "16228762  ...             0.00           0.00            0.00            0.0   \n",
       "16228763  ...             0.00           0.00            0.00            0.0   \n",
       "16228764  ...             0.00           0.00            0.00            0.0   \n",
       "16228765  ...             0.00           0.00            0.00            0.0   \n",
       "\n",
       "          WEIGHTED_LOOKUP_CNT_PY  py_qty_sold_transfer  py_qty_sold_on_hand  \\\n",
       "0                            0.0                   0.0                  3.0   \n",
       "1                            0.0                   0.0                  0.0   \n",
       "2                            0.0                   0.0                  0.0   \n",
       "3                            0.0                   0.0                  0.0   \n",
       "4                            0.0                   0.0                  4.0   \n",
       "...                          ...                   ...                  ...   \n",
       "16228761                     0.0                   0.0                  0.0   \n",
       "16228762                     0.0                   0.0                  0.0   \n",
       "16228763                     0.0                   0.0                  0.0   \n",
       "16228764                     0.0                   0.0                  0.0   \n",
       "16228765                     0.0                   0.0                  0.0   \n",
       "\n",
       "          ppy_qty_sold_transfer  ppy_qty_sold_on_hand  fy_ts_forecast  \n",
       "0                           0.0                   4.0          4629.0  \n",
       "1                           0.0                   0.0            52.0  \n",
       "2                           0.0                   1.0          4629.0  \n",
       "3                           0.0                   0.0            52.0  \n",
       "4                           0.0                   2.0          4629.0  \n",
       "...                         ...                   ...             ...  \n",
       "16228761                    0.0                   0.0            11.0  \n",
       "16228762                    0.0                   0.0            11.0  \n",
       "16228763                    0.0                   0.0            11.0  \n",
       "16228764                    0.0                   0.0            11.0  \n",
       "16228765                    0.0                   0.0            11.0  \n",
       "\n",
       "[16228180 rows x 36 columns]"
      ]
     },
     "execution_count": 3,
     "metadata": {},
     "output_type": "execute_result"
    }
   ],
   "source": [
    "filters_pi"
   ]
  },
  {
   "cell_type": "code",
   "execution_count": 9,
   "id": "b96f2d9f",
   "metadata": {},
   "outputs": [
    {
     "data": {
      "text/html": [
       "<div>\n",
       "<style scoped>\n",
       "    .dataframe tbody tr th:only-of-type {\n",
       "        vertical-align: middle;\n",
       "    }\n",
       "\n",
       "    .dataframe tbody tr th {\n",
       "        vertical-align: top;\n",
       "    }\n",
       "\n",
       "    .dataframe thead th {\n",
       "        text-align: right;\n",
       "    }\n",
       "</style>\n",
       "<table border=\"1\" class=\"dataframe\">\n",
       "  <thead>\n",
       "    <tr style=\"text-align: right;\">\n",
       "      <th></th>\n",
       "      <th>QTY_SOLD_CY</th>\n",
       "    </tr>\n",
       "  </thead>\n",
       "  <tbody>\n",
       "    <tr>\n",
       "      <th>count</th>\n",
       "      <td>3901.000000</td>\n",
       "    </tr>\n",
       "    <tr>\n",
       "      <th>mean</th>\n",
       "      <td>0.977442</td>\n",
       "    </tr>\n",
       "    <tr>\n",
       "      <th>std</th>\n",
       "      <td>1.213177</td>\n",
       "    </tr>\n",
       "    <tr>\n",
       "      <th>min</th>\n",
       "      <td>-3.000000</td>\n",
       "    </tr>\n",
       "    <tr>\n",
       "      <th>25%</th>\n",
       "      <td>0.000000</td>\n",
       "    </tr>\n",
       "    <tr>\n",
       "      <th>50%</th>\n",
       "      <td>1.000000</td>\n",
       "    </tr>\n",
       "    <tr>\n",
       "      <th>75%</th>\n",
       "      <td>2.000000</td>\n",
       "    </tr>\n",
       "    <tr>\n",
       "      <th>max</th>\n",
       "      <td>18.000000</td>\n",
       "    </tr>\n",
       "  </tbody>\n",
       "</table>\n",
       "</div>"
      ],
      "text/plain": [
       "       QTY_SOLD_CY\n",
       "count  3901.000000\n",
       "mean      0.977442\n",
       "std       1.213177\n",
       "min      -3.000000\n",
       "25%       0.000000\n",
       "50%       1.000000\n",
       "75%       2.000000\n",
       "max      18.000000"
      ]
     },
     "execution_count": 9,
     "metadata": {},
     "output_type": "execute_result"
    }
   ],
   "source": [
    "# EVALUATING AN EXAMPLE\n",
    "filters_pi_5792231=filters_pi.loc[filters_pi[\"SKU_NUMBER\"] == 5792231, [\"QTY_SOLD_CY\"]]\n",
    "filters_pi_5792231.describe()"
   ]
  },
  {
   "cell_type": "code",
   "execution_count": 10,
   "id": "1a7cf561",
   "metadata": {},
   "outputs": [
    {
     "data": {
      "text/html": [
       "<div>\n",
       "<style scoped>\n",
       "    .dataframe tbody tr th:only-of-type {\n",
       "        vertical-align: middle;\n",
       "    }\n",
       "\n",
       "    .dataframe tbody tr th {\n",
       "        vertical-align: top;\n",
       "    }\n",
       "\n",
       "    .dataframe thead th {\n",
       "        text-align: right;\n",
       "    }\n",
       "</style>\n",
       "<table border=\"1\" class=\"dataframe\">\n",
       "  <thead>\n",
       "    <tr style=\"text-align: right;\">\n",
       "      <th></th>\n",
       "      <th>QTY_SOLD_CY</th>\n",
       "    </tr>\n",
       "  </thead>\n",
       "  <tbody>\n",
       "    <tr>\n",
       "      <th>count</th>\n",
       "      <td>2901.000000</td>\n",
       "    </tr>\n",
       "    <tr>\n",
       "      <th>mean</th>\n",
       "      <td>0.001379</td>\n",
       "    </tr>\n",
       "    <tr>\n",
       "      <th>std</th>\n",
       "      <td>0.052504</td>\n",
       "    </tr>\n",
       "    <tr>\n",
       "      <th>min</th>\n",
       "      <td>0.000000</td>\n",
       "    </tr>\n",
       "    <tr>\n",
       "      <th>25%</th>\n",
       "      <td>0.000000</td>\n",
       "    </tr>\n",
       "    <tr>\n",
       "      <th>50%</th>\n",
       "      <td>0.000000</td>\n",
       "    </tr>\n",
       "    <tr>\n",
       "      <th>75%</th>\n",
       "      <td>0.000000</td>\n",
       "    </tr>\n",
       "    <tr>\n",
       "      <th>max</th>\n",
       "      <td>2.000000</td>\n",
       "    </tr>\n",
       "  </tbody>\n",
       "</table>\n",
       "</div>"
      ],
      "text/plain": [
       "       QTY_SOLD_CY\n",
       "count  2901.000000\n",
       "mean      0.001379\n",
       "std       0.052504\n",
       "min       0.000000\n",
       "25%       0.000000\n",
       "50%       0.000000\n",
       "75%       0.000000\n",
       "max       2.000000"
      ]
     },
     "execution_count": 10,
     "metadata": {},
     "output_type": "execute_result"
    }
   ],
   "source": [
    "# EVALUATING A 2ND EXAMPLE\n",
    "filters_pi_10972414=filters_pi.loc[filters_pi[\"SKU_NUMBER\"] == 10972414, [\"QTY_SOLD_CY\"]]\n",
    "filters_pi_10972414.describe()\n",
    "\n",
    "# SKUS SAles are present in different number of stores per each one"
   ]
  },
  {
   "cell_type": "code",
   "execution_count": 11,
   "id": "0b125878",
   "metadata": {},
   "outputs": [
    {
     "name": "stderr",
     "output_type": "stream",
     "text": [
      "/apps/cent7/jupyterhub/lib/python3.9/site-packages/seaborn/distributions.py:2619: FutureWarning: `distplot` is a deprecated function and will be removed in a future version. Please adapt your code to use either `displot` (a figure-level function with similar flexibility) or `histplot` (an axes-level function for histograms).\n",
      "  warnings.warn(msg, FutureWarning)\n"
     ]
    },
    {
     "data": {
      "text/plain": [
       "array([[<AxesSubplot:title={'center':'QTY_SOLD_CY'}>]], dtype=object)"
      ]
     },
     "execution_count": 11,
     "metadata": {},
     "output_type": "execute_result"
    },
    {
     "data": {
      "image/png": "[encoded data removed]",
      "text/plain": [
       "<Figure size 432x288 with 1 Axes>"
      ]
     },
     "metadata": {
      "needs_background": "light"
     },
     "output_type": "display_data"
    },
    {
     "data": {
      "image/png": "[encoded data removed]",
      "text/plain": [
       "<Figure size 432x288 with 1 Axes>"
      ]
     },
     "metadata": {
      "needs_background": "light"
     },
     "output_type": "display_data"
    }
   ],
   "source": [
    "sns.distplot(filters_pi_5792231['QTY_SOLD_CY'])\n",
    "filters_pi_5792231.hist(bins=24)"
   ]
  },
  {
   "cell_type": "code",
   "execution_count": 12,
   "id": "fbdc7c34",
   "metadata": {},
   "outputs": [
    {
     "name": "stderr",
     "output_type": "stream",
     "text": [
      "/apps/cent7/jupyterhub/lib/python3.9/site-packages/seaborn/distributions.py:2619: FutureWarning: `distplot` is a deprecated function and will be removed in a future version. Please adapt your code to use either `displot` (a figure-level function with similar flexibility) or `histplot` (an axes-level function for histograms).\n",
      "  warnings.warn(msg, FutureWarning)\n"
     ]
    },
    {
     "data": {
      "text/plain": [
       "array([[<AxesSubplot:title={'center':'QTY_SOLD_CY'}>]], dtype=object)"
      ]
     },
     "execution_count": 12,
     "metadata": {},
     "output_type": "execute_result"
    },
    {
     "data": {
      "image/png": "[encoded data removed]",
      "text/plain": [
       "<Figure size 432x288 with 1 Axes>"
      ]
     },
     "metadata": {
      "needs_background": "light"
     },
     "output_type": "display_data"
    },
    {
     "data": {
      "image/png": "[encoded data removed]",
      "text/plain": [
       "<Figure size 432x288 with 1 Axes>"
      ]
     },
     "metadata": {
      "needs_background": "light"
     },
     "output_type": "display_data"
    }
   ],
   "source": [
    "sns.distplot(filters_pi_10972414['QTY_SOLD_CY'])\n",
    "filters_pi_10972414.hist(bins=24)"
   ]
  },
  {
   "cell_type": "code",
   "execution_count": 3,
   "id": "b6d531f4",
   "metadata": {},
   "outputs": [
    {
     "name": "stdout",
     "output_type": "stream",
     "text": [
      "               sum      mean   max\n",
      "SKU_NUMBER                        \n",
      "3110024        0.0  0.000000   0.0\n",
      "3231054     4020.0  1.030505  24.0\n",
      "3231062      667.0  0.170982   5.0\n",
      "3231070     2947.0  0.755447  25.0\n",
      "3231089      202.0  0.051782   2.0\n",
      "...            ...       ...   ...\n",
      "26983429       0.0  0.000000   0.0\n",
      "26983438       0.0  0.000000   0.0\n",
      "26983458       0.0  0.000000   0.0\n",
      "99991111       1.0  0.000353   1.0\n",
      "99995830     683.0  0.175083  21.0\n",
      "\n",
      "[4304 rows x 3 columns]\n",
      "<class 'pandas.core.frame.DataFrame'>\n",
      "59\n"
     ]
    }
   ],
   "source": [
    "stats2 = filters_pi.groupby(['SKU_NUMBER'])['QTY_SOLD_CY'].agg(['sum', 'mean', 'max'])\n",
    "print(stats2)\n",
    "print(type(stats2))\n",
    "stats2_0=stats2.loc[stats2[\"sum\"] == 0, [\"sum\"]]\n",
    "list_skus_0 = stats2_0.index.unique().tolist()\n",
    "n_final_0 = len(list_skus_0)\n",
    "print(n_final_0)"
   ]
  },
  {
   "cell_type": "code",
   "execution_count": 4,
   "id": "6e49a334",
   "metadata": {},
   "outputs": [
    {
     "data": {
      "text/html": [
       "<div>\n",
       "<style scoped>\n",
       "    .dataframe tbody tr th:only-of-type {\n",
       "        vertical-align: middle;\n",
       "    }\n",
       "\n",
       "    .dataframe tbody tr th {\n",
       "        vertical-align: top;\n",
       "    }\n",
       "\n",
       "    .dataframe thead th {\n",
       "        text-align: right;\n",
       "    }\n",
       "</style>\n",
       "<table border=\"1\" class=\"dataframe\">\n",
       "  <thead>\n",
       "    <tr style=\"text-align: right;\">\n",
       "      <th></th>\n",
       "      <th>sum</th>\n",
       "      <th>mean</th>\n",
       "      <th>max</th>\n",
       "    </tr>\n",
       "  </thead>\n",
       "  <tbody>\n",
       "    <tr>\n",
       "      <th>count</th>\n",
       "      <td>4304.000000</td>\n",
       "      <td>4304.000000</td>\n",
       "      <td>4304.000000</td>\n",
       "    </tr>\n",
       "    <tr>\n",
       "      <th>mean</th>\n",
       "      <td>1067.981413</td>\n",
       "      <td>0.274015</td>\n",
       "      <td>13.318076</td>\n",
       "    </tr>\n",
       "    <tr>\n",
       "      <th>std</th>\n",
       "      <td>4074.765143</td>\n",
       "      <td>1.044725</td>\n",
       "      <td>122.103482</td>\n",
       "    </tr>\n",
       "    <tr>\n",
       "      <th>min</th>\n",
       "      <td>-3.000000</td>\n",
       "      <td>-0.002004</td>\n",
       "      <td>0.000000</td>\n",
       "    </tr>\n",
       "    <tr>\n",
       "      <th>25%</th>\n",
       "      <td>5.000000</td>\n",
       "      <td>0.001538</td>\n",
       "      <td>1.000000</td>\n",
       "    </tr>\n",
       "    <tr>\n",
       "      <th>50%</th>\n",
       "      <td>24.000000</td>\n",
       "      <td>0.006152</td>\n",
       "      <td>2.000000</td>\n",
       "    </tr>\n",
       "    <tr>\n",
       "      <th>75%</th>\n",
       "      <td>316.250000</td>\n",
       "      <td>0.081069</td>\n",
       "      <td>6.000000</td>\n",
       "    </tr>\n",
       "    <tr>\n",
       "      <th>max</th>\n",
       "      <td>104107.000000</td>\n",
       "      <td>26.687260</td>\n",
       "      <td>5704.000000</td>\n",
       "    </tr>\n",
       "  </tbody>\n",
       "</table>\n",
       "</div>"
      ],
      "text/plain": [
       "                 sum         mean          max\n",
       "count    4304.000000  4304.000000  4304.000000\n",
       "mean     1067.981413     0.274015    13.318076\n",
       "std      4074.765143     1.044725   122.103482\n",
       "min        -3.000000    -0.002004     0.000000\n",
       "25%         5.000000     0.001538     1.000000\n",
       "50%        24.000000     0.006152     2.000000\n",
       "75%       316.250000     0.081069     6.000000\n",
       "max    104107.000000    26.687260  5704.000000"
      ]
     },
     "execution_count": 4,
     "metadata": {},
     "output_type": "execute_result"
    }
   ],
   "source": [
    "stats2.describe()"
   ]
  },
  {
   "cell_type": "code",
   "execution_count": 13,
   "id": "738f3730",
   "metadata": {},
   "outputs": [
    {
     "name": "stdout",
     "output_type": "stream",
     "text": [
      "4028\n"
     ]
    }
   ],
   "source": [
    "stats2_0=stats2.loc[((stats2[\"sum\"] <= 500) | (stats2[\"max\"] <= 29)) , [\"sum\"]]\n",
    "list_skus_0 = stats2_0.index.unique().tolist()\n",
    "n_final_0 = len(list_skus_0)\n",
    "print(n_final_0)"
   ]
  },
  {
   "cell_type": "code",
   "execution_count": 27,
   "id": "1b4495dd",
   "metadata": {},
   "outputs": [
    {
     "name": "stdout",
     "output_type": "stream",
     "text": [
      "4112\n"
     ]
    }
   ],
   "source": [
    "stats2_0=stats2.loc[(stats2[\"max\"] <= 49) , [\"sum\"]]\n",
    "list_skus_2 = stats2_0.index.unique().tolist()\n",
    "n_final_2 = len(list_skus_2)\n",
    "print(n_final_2)"
   ]
  },
  {
   "cell_type": "code",
   "execution_count": 22,
   "id": "8ada57c3",
   "metadata": {},
   "outputs": [
    {
     "name": "stdout",
     "output_type": "stream",
     "text": [
      "[3231917, 5130071, 5790010, 5790052, 5790054, 5790344, 5791855, 5792274, 5792347, 10704591, 10704932, 10706760, 10708340, 10709136, 10711519, 10711624, 10857058, 10857059, 10857243, 10857247, 10972638, 10972642, 10975513, 10975542, 10975643, 11349194, 11350101, 11395327, 11495154, 11582255, 11613517, 11638859, 11680452, 11680453, 12006923, 12076221, 17400569, 22880338]\n"
     ]
    }
   ],
   "source": [
    "x=list(set(list_skus_0) - set(list_skus_2))\n",
    "print(sorted(x))"
   ]
  },
  {
   "cell_type": "code",
   "execution_count": 25,
   "id": "eca5097b",
   "metadata": {},
   "outputs": [
    {
     "data": {
      "text/html": [
       "<div>\n",
       "<style scoped>\n",
       "    .dataframe tbody tr th:only-of-type {\n",
       "        vertical-align: middle;\n",
       "    }\n",
       "\n",
       "    .dataframe tbody tr th {\n",
       "        vertical-align: top;\n",
       "    }\n",
       "\n",
       "    .dataframe thead th {\n",
       "        text-align: right;\n",
       "    }\n",
       "</style>\n",
       "<table border=\"1\" class=\"dataframe\">\n",
       "  <thead>\n",
       "    <tr style=\"text-align: right;\">\n",
       "      <th></th>\n",
       "      <th>QTY_SOLD_CY</th>\n",
       "    </tr>\n",
       "  </thead>\n",
       "  <tbody>\n",
       "    <tr>\n",
       "      <th>count</th>\n",
       "      <td>3901.000000</td>\n",
       "    </tr>\n",
       "    <tr>\n",
       "      <th>mean</th>\n",
       "      <td>0.017944</td>\n",
       "    </tr>\n",
       "    <tr>\n",
       "      <th>std</th>\n",
       "      <td>1.105551</td>\n",
       "    </tr>\n",
       "    <tr>\n",
       "      <th>min</th>\n",
       "      <td>-1.000000</td>\n",
       "    </tr>\n",
       "    <tr>\n",
       "      <th>25%</th>\n",
       "      <td>0.000000</td>\n",
       "    </tr>\n",
       "    <tr>\n",
       "      <th>50%</th>\n",
       "      <td>0.000000</td>\n",
       "    </tr>\n",
       "    <tr>\n",
       "      <th>75%</th>\n",
       "      <td>0.000000</td>\n",
       "    </tr>\n",
       "    <tr>\n",
       "      <th>max</th>\n",
       "      <td>69.000000</td>\n",
       "    </tr>\n",
       "  </tbody>\n",
       "</table>\n",
       "</div>"
      ],
      "text/plain": [
       "       QTY_SOLD_CY\n",
       "count  3901.000000\n",
       "mean      0.017944\n",
       "std       1.105551\n",
       "min      -1.000000\n",
       "25%       0.000000\n",
       "50%       0.000000\n",
       "75%       0.000000\n",
       "max      69.000000"
      ]
     },
     "execution_count": 25,
     "metadata": {},
     "output_type": "execute_result"
    }
   ],
   "source": [
    "# EVALUATING A \"MISSING\" EXAMPLE\n",
    "filters_pi_11495154=filters_pi.loc[filters_pi[\"SKU_NUMBER\"] == 11495154, [\"QTY_SOLD_CY\"]]\n",
    "filters_pi_11495154.describe()"
   ]
  },
  {
   "cell_type": "code",
   "execution_count": 26,
   "id": "6f892b03",
   "metadata": {},
   "outputs": [
    {
     "data": {
      "text/html": [
       "<div>\n",
       "<style scoped>\n",
       "    .dataframe tbody tr th:only-of-type {\n",
       "        vertical-align: middle;\n",
       "    }\n",
       "\n",
       "    .dataframe tbody tr th {\n",
       "        vertical-align: top;\n",
       "    }\n",
       "\n",
       "    .dataframe thead th {\n",
       "        text-align: right;\n",
       "    }\n",
       "</style>\n",
       "<table border=\"1\" class=\"dataframe\">\n",
       "  <thead>\n",
       "    <tr style=\"text-align: right;\">\n",
       "      <th></th>\n",
       "      <th>QTY_SOLD_CY</th>\n",
       "    </tr>\n",
       "  </thead>\n",
       "  <tbody>\n",
       "    <tr>\n",
       "      <th>count</th>\n",
       "      <td>3901.000000</td>\n",
       "    </tr>\n",
       "    <tr>\n",
       "      <th>mean</th>\n",
       "      <td>0.043579</td>\n",
       "    </tr>\n",
       "    <tr>\n",
       "      <th>std</th>\n",
       "      <td>2.309212</td>\n",
       "    </tr>\n",
       "    <tr>\n",
       "      <th>min</th>\n",
       "      <td>-1.000000</td>\n",
       "    </tr>\n",
       "    <tr>\n",
       "      <th>25%</th>\n",
       "      <td>0.000000</td>\n",
       "    </tr>\n",
       "    <tr>\n",
       "      <th>50%</th>\n",
       "      <td>0.000000</td>\n",
       "    </tr>\n",
       "    <tr>\n",
       "      <th>75%</th>\n",
       "      <td>0.000000</td>\n",
       "    </tr>\n",
       "    <tr>\n",
       "      <th>max</th>\n",
       "      <td>144.000000</td>\n",
       "    </tr>\n",
       "  </tbody>\n",
       "</table>\n",
       "</div>"
      ],
      "text/plain": [
       "       QTY_SOLD_CY\n",
       "count  3901.000000\n",
       "mean      0.043579\n",
       "std       2.309212\n",
       "min      -1.000000\n",
       "25%       0.000000\n",
       "50%       0.000000\n",
       "75%       0.000000\n",
       "max     144.000000"
      ]
     },
     "execution_count": 26,
     "metadata": {},
     "output_type": "execute_result"
    }
   ],
   "source": [
    "# EVALUATING ANOTHER \"MISSING\" EXAMPLE\n",
    "filters_pi_10704591=filters_pi.loc[filters_pi[\"SKU_NUMBER\"] == 10704591, [\"QTY_SOLD_CY\"]]\n",
    "filters_pi_10704591.describe()"
   ]
  },
  {
   "cell_type": "code",
   "execution_count": 46,
   "id": "7dedc3f9",
   "metadata": {},
   "outputs": [],
   "source": [
    "# USING Tukey’s box plot method for Pesky identification\n",
    "def tukeys_method(df, variable):\n",
    "\n",
    "    #Takes two parameters: dataframe & variable of interest as string\n",
    "    q1 = df[variable].quantile(0.25)\n",
    "    q3 = df[variable].quantile(0.75)\n",
    "    iqr = q3-q1\n",
    "    inner_fence = 1.5*iqr\n",
    "    outer_fence = 3*iqr\n",
    "    \n",
    "    #inner fence lower and upper end\n",
    "    inner_fence_le = q1-inner_fence\n",
    "    inner_fence_ue = q3+inner_fence\n",
    "    \n",
    "    #outer fence lower and upper end\n",
    "    outer_fence_le = q1-outer_fence\n",
    "    outer_fence_ue = q3+outer_fence\n",
    "    \n",
    "    outliers_prob = []\n",
    "    outliers_poss = []\n",
    "    for index, x in enumerate(df[variable]):\n",
    "        if x < outer_fence_le or x > outer_fence_ue:\n",
    "            outliers_prob.append(index)\n",
    "    for index, x in enumerate(df[variable]):\n",
    "        if x < inner_fence_le or x > inner_fence_ue:\n",
    "            outliers_poss.append(index)\n",
    "    \n",
    "    n_prob_outliers=len(outliers_prob)\n",
    "    n_poss_outliers=len(outliers_poss)\n",
    "    return n_prob_outliers, n_poss_outliers"
   ]
  },
  {
   "cell_type": "code",
   "execution_count": 77,
   "id": "f6fb1ef9",
   "metadata": {},
   "outputs": [
    {
     "name": "stderr",
     "output_type": "stream",
     "text": [
      "/apps/cent7/jupyterhub/lib/python3.9/site-packages/pandas/core/arraylike.py:364: RuntimeWarning: divide by zero encountered in log\n",
      "  result = getattr(ufunc, method)(*inputs, **kwargs)\n",
      "/apps/cent7/jupyterhub/lib/python3.9/site-packages/pandas/core/arraylike.py:364: RuntimeWarning: invalid value encountered in log\n",
      "  result = getattr(ufunc, method)(*inputs, **kwargs)\n"
     ]
    },
    {
     "name": "stdout",
     "output_type": "stream",
     "text": [
      "4304\n",
      "276\n",
      "268\n",
      "[15790082, 10705413, 10027528, 10708492, 10027533, 22880270, 22880271, 12054540, 11964942, 10193426]\n",
      "97.101 % are Pesky SKUs using the Tukey’s box plot method (excluding SKUs with no or fewer sales)\n"
     ]
    }
   ],
   "source": [
    "# Calculating the number of Pesky SKUs using the Tukey’s box plot, extended to the log-IQ method (highly skewed distribution)\n",
    "list_skus = filters_pi.SKU_NUMBER.unique().tolist()\n",
    "#Excluding the SKUs that have less or equal than 24 qty as total sales\n",
    "final_list=list(set(list_skus) - set(list_skus_0))\n",
    "\n",
    "n=0\n",
    "pesky_skus_t=[]\n",
    "for sku in final_list:\n",
    "    filters_pi_x=filters_pi.loc[filters_pi[\"SKU_NUMBER\"] == sku, [\"SKU_NUMBER\", \"QTY_SOLD_CY\"]]\n",
    "    filters_pi_x['QTY_SOLD_CY_1'] = filters_pi_x['QTY_SOLD_CY']+1\n",
    "    log_QTY_SOLD_CY = np.log(filters_pi_x['QTY_SOLD_CY_1'])\n",
    "    filters_pi_x['LOG_QTY_SOLD_CY_1'] = log_QTY_SOLD_CY\n",
    "    n_prob_o_x, n_poss_o_x = tukeys_method(filters_pi_x, \"LOG_QTY_SOLD_CY_1\")\n",
    "    if n_prob_o_x>0:\n",
    "        n=n+1\n",
    "        pesky_skus_t.append(sku)\n",
    "\n",
    "print(len(list_skus))\n",
    "print(len(final_list))\n",
    "print(n)\n",
    "print(pesky_skus_t[:10])\n",
    "print(round((n*100/len(final_list)),3), \"% are Pesky SKUs using the Tukey’s box plot method (excluding SKUs with no or fewer sales)\")"
   ]
  },
  {
   "cell_type": "code",
   "execution_count": 55,
   "id": "9fc08913",
   "metadata": {},
   "outputs": [
    {
     "data": {
      "text/html": [
       "<div>\n",
       "<style scoped>\n",
       "    .dataframe tbody tr th:only-of-type {\n",
       "        vertical-align: middle;\n",
       "    }\n",
       "\n",
       "    .dataframe tbody tr th {\n",
       "        vertical-align: top;\n",
       "    }\n",
       "\n",
       "    .dataframe thead th {\n",
       "        text-align: right;\n",
       "    }\n",
       "</style>\n",
       "<table border=\"1\" class=\"dataframe\">\n",
       "  <thead>\n",
       "    <tr style=\"text-align: right;\">\n",
       "      <th></th>\n",
       "      <th>QTY_SOLD_CY</th>\n",
       "    </tr>\n",
       "  </thead>\n",
       "  <tbody>\n",
       "    <tr>\n",
       "      <th>count</th>\n",
       "      <td>3901.000000</td>\n",
       "    </tr>\n",
       "    <tr>\n",
       "      <th>mean</th>\n",
       "      <td>0.006665</td>\n",
       "    </tr>\n",
       "    <tr>\n",
       "      <th>std</th>\n",
       "      <td>0.135710</td>\n",
       "    </tr>\n",
       "    <tr>\n",
       "      <th>min</th>\n",
       "      <td>0.000000</td>\n",
       "    </tr>\n",
       "    <tr>\n",
       "      <th>25%</th>\n",
       "      <td>0.000000</td>\n",
       "    </tr>\n",
       "    <tr>\n",
       "      <th>50%</th>\n",
       "      <td>0.000000</td>\n",
       "    </tr>\n",
       "    <tr>\n",
       "      <th>75%</th>\n",
       "      <td>0.000000</td>\n",
       "    </tr>\n",
       "    <tr>\n",
       "      <th>max</th>\n",
       "      <td>7.000000</td>\n",
       "    </tr>\n",
       "  </tbody>\n",
       "</table>\n",
       "</div>"
      ],
      "text/plain": [
       "       QTY_SOLD_CY\n",
       "count  3901.000000\n",
       "mean      0.006665\n",
       "std       0.135710\n",
       "min       0.000000\n",
       "25%       0.000000\n",
       "50%       0.000000\n",
       "75%       0.000000\n",
       "max       7.000000"
      ]
     },
     "execution_count": 55,
     "metadata": {},
     "output_type": "execute_result"
    }
   ],
   "source": [
    "# EVALUATING A PESKY SKU EXAMPLE\n",
    "filters_pi_11591680=filters_pi.loc[filters_pi[\"SKU_NUMBER\"] == 11591680, [\"QTY_SOLD_CY\"]]\n",
    "filters_pi_11591680.describe()"
   ]
  },
  {
   "cell_type": "code",
   "execution_count": 60,
   "id": "7ac2db08",
   "metadata": {},
   "outputs": [
    {
     "data": {
      "text/html": [
       "<div>\n",
       "<style scoped>\n",
       "    .dataframe tbody tr th:only-of-type {\n",
       "        vertical-align: middle;\n",
       "    }\n",
       "\n",
       "    .dataframe tbody tr th {\n",
       "        vertical-align: top;\n",
       "    }\n",
       "\n",
       "    .dataframe thead th {\n",
       "        text-align: right;\n",
       "    }\n",
       "</style>\n",
       "<table border=\"1\" class=\"dataframe\">\n",
       "  <thead>\n",
       "    <tr style=\"text-align: right;\">\n",
       "      <th></th>\n",
       "      <th>QTY_SOLD_CY</th>\n",
       "    </tr>\n",
       "  </thead>\n",
       "  <tbody>\n",
       "    <tr>\n",
       "      <th>count</th>\n",
       "      <td>3901.000000</td>\n",
       "    </tr>\n",
       "    <tr>\n",
       "      <th>mean</th>\n",
       "      <td>0.296591</td>\n",
       "    </tr>\n",
       "    <tr>\n",
       "      <th>std</th>\n",
       "      <td>0.636466</td>\n",
       "    </tr>\n",
       "    <tr>\n",
       "      <th>min</th>\n",
       "      <td>-1.000000</td>\n",
       "    </tr>\n",
       "    <tr>\n",
       "      <th>25%</th>\n",
       "      <td>0.000000</td>\n",
       "    </tr>\n",
       "    <tr>\n",
       "      <th>50%</th>\n",
       "      <td>0.000000</td>\n",
       "    </tr>\n",
       "    <tr>\n",
       "      <th>75%</th>\n",
       "      <td>0.000000</td>\n",
       "    </tr>\n",
       "    <tr>\n",
       "      <th>max</th>\n",
       "      <td>8.000000</td>\n",
       "    </tr>\n",
       "  </tbody>\n",
       "</table>\n",
       "</div>"
      ],
      "text/plain": [
       "       QTY_SOLD_CY\n",
       "count  3901.000000\n",
       "mean      0.296591\n",
       "std       0.636466\n",
       "min      -1.000000\n",
       "25%       0.000000\n",
       "50%       0.000000\n",
       "75%       0.000000\n",
       "max       8.000000"
      ]
     },
     "execution_count": 60,
     "metadata": {},
     "output_type": "execute_result"
    }
   ],
   "source": [
    "# EVALUATING ANOTHER NEW PESKY SKU EXAMPLE\n",
    "filters_pi_22880268=filters_pi.loc[filters_pi[\"SKU_NUMBER\"] == 22880268, [\"QTY_SOLD_CY\"]]\n",
    "filters_pi_22880268.describe()"
   ]
  },
  {
   "cell_type": "code",
   "execution_count": 78,
   "id": "aeec2c41",
   "metadata": {},
   "outputs": [
    {
     "data": {
      "text/html": [
       "<div>\n",
       "<style scoped>\n",
       "    .dataframe tbody tr th:only-of-type {\n",
       "        vertical-align: middle;\n",
       "    }\n",
       "\n",
       "    .dataframe tbody tr th {\n",
       "        vertical-align: top;\n",
       "    }\n",
       "\n",
       "    .dataframe thead th {\n",
       "        text-align: right;\n",
       "    }\n",
       "</style>\n",
       "<table border=\"1\" class=\"dataframe\">\n",
       "  <thead>\n",
       "    <tr style=\"text-align: right;\">\n",
       "      <th></th>\n",
       "      <th>QTY_SOLD_CY</th>\n",
       "    </tr>\n",
       "  </thead>\n",
       "  <tbody>\n",
       "    <tr>\n",
       "      <th>count</th>\n",
       "      <td>3901.000000</td>\n",
       "    </tr>\n",
       "    <tr>\n",
       "      <th>mean</th>\n",
       "      <td>4.115355</td>\n",
       "    </tr>\n",
       "    <tr>\n",
       "      <th>std</th>\n",
       "      <td>3.745359</td>\n",
       "    </tr>\n",
       "    <tr>\n",
       "      <th>min</th>\n",
       "      <td>-1.000000</td>\n",
       "    </tr>\n",
       "    <tr>\n",
       "      <th>25%</th>\n",
       "      <td>2.000000</td>\n",
       "    </tr>\n",
       "    <tr>\n",
       "      <th>50%</th>\n",
       "      <td>3.000000</td>\n",
       "    </tr>\n",
       "    <tr>\n",
       "      <th>75%</th>\n",
       "      <td>6.000000</td>\n",
       "    </tr>\n",
       "    <tr>\n",
       "      <th>max</th>\n",
       "      <td>44.000000</td>\n",
       "    </tr>\n",
       "  </tbody>\n",
       "</table>\n",
       "</div>"
      ],
      "text/plain": [
       "       QTY_SOLD_CY\n",
       "count  3901.000000\n",
       "mean      4.115355\n",
       "std       3.745359\n",
       "min      -1.000000\n",
       "25%       2.000000\n",
       "50%       3.000000\n",
       "75%       6.000000\n",
       "max      44.000000"
      ]
     },
     "execution_count": 78,
     "metadata": {},
     "output_type": "execute_result"
    }
   ],
   "source": [
    "# EVALUATING ANOTHER NEW PESKY SKU EXAMPLE\n",
    "filters_pi_15790082=filters_pi.loc[filters_pi[\"SKU_NUMBER\"] == 15790082, [\"QTY_SOLD_CY\"]]\n",
    "filters_pi_15790082.describe()"
   ]
  },
  {
   "cell_type": "code",
   "execution_count": 79,
   "id": "d90329b1",
   "metadata": {},
   "outputs": [
    {
     "name": "stdout",
     "output_type": "stream",
     "text": [
      "(1042664, 36)\n"
     ]
    }
   ],
   "source": [
    "# Subsetting the batteries pi data , only using the SKUS inside the pesky_skus_t list\n",
    "\n",
    "boolean_series = filters_pi.SKU_NUMBER.isin(pesky_skus_t)\n",
    "filters_pi_model = filters_pi[boolean_series]\n",
    "print(filters_pi_model.shape)"
   ]
  },
  {
   "cell_type": "code",
   "execution_count": 80,
   "id": "a1854146",
   "metadata": {},
   "outputs": [],
   "source": [
    "# filters_pi_model.to_csv('/home/jsanmar/Downloads/filters_pi_model.csv', index = False)"
   ]
  },
  {
   "cell_type": "code",
   "execution_count": 24,
   "id": "07b7358e",
   "metadata": {},
   "outputs": [
    {
     "name": "stdout",
     "output_type": "stream",
     "text": [
      "(1042664, 36)\n"
     ]
    }
   ],
   "source": [
    "filters_pi_model=pd.read_csv('/home/jsanmar/Downloads/filters_pi_model.csv')\n",
    "print(filters_pi_model.shape)"
   ]
  },
  {
   "cell_type": "code",
   "execution_count": 92,
   "id": "787903d7",
   "metadata": {},
   "outputs": [
    {
     "name": "stdout",
     "output_type": "stream",
     "text": [
      "<class 'pandas.core.frame.DataFrame'>\n",
      "RangeIndex: 1042664 entries, 0 to 1042663\n",
      "Data columns (total 36 columns):\n",
      " #   Column                          Non-Null Count    Dtype  \n",
      "---  ------                          --------------    -----  \n",
      " 0   SKU_NUMBER                      1042664 non-null  int64  \n",
      " 1   STORE_NUMBER                    1042664 non-null  int64  \n",
      " 2   APPLICATION_COUNT               1042664 non-null  int64  \n",
      " 3   ESTABLISHMENTS                  1042664 non-null  float64\n",
      " 4   SKU_EXISTENCE_PY                1042664 non-null  int64  \n",
      " 5   SKU_STORE_PDQ_PY                1042664 non-null  int64  \n",
      " 6   TOTAL_VIO_PY                    1042664 non-null  float64\n",
      " 7   UNADJUSTED_TOTAL_VIO_PY         1042664 non-null  float64\n",
      " 8   SS_SALES_PY                     1042664 non-null  float64\n",
      " 9   AVG_CLUSTER_UNIT_SALES_PY       1042664 non-null  float64\n",
      " 10  AVG_CLUSTER_LOST_SALES_PY       1042664 non-null  float64\n",
      " 11  VIO_COMPARED_TO_CLUSTER_PY      1042664 non-null  float64\n",
      " 12  ADJUSTED_AVG_CLUSTER_SALES_PY   1042664 non-null  float64\n",
      " 13  QTY_SOLD_PPY                    1042664 non-null  float64\n",
      " 14  QTY_SOLD_PY                     1042664 non-null  float64\n",
      " 15  QTY_SOLD_CY                     1042664 non-null  float64\n",
      " 16  AVG_CLUSTER_TOTAL_SALES_PY      1042664 non-null  float64\n",
      " 17  SALES_SIGNAL_PY                 1042664 non-null  float64\n",
      " 18  FAILURE_SALES_PY                1042664 non-null  float64\n",
      " 19  LIFECYCLE_PY                    1042664 non-null  float64\n",
      " 20  ADJUSTED_LIFECYCLE_PY           1042664 non-null  float64\n",
      " 21  ADJ_AVG_CLUSTER_LOST_SALES_PY   1042664 non-null  float64\n",
      " 22  ADJ_AVG_CLUSTER_TOTAL_SALES_PY  1042664 non-null  float64\n",
      " 23  py_unit_sales                   1042664 non-null  float64\n",
      " 24  ppy_unit_sales                  1042664 non-null  float64\n",
      " 25  py_gross_sales                  1042664 non-null  float64\n",
      " 26  ppy_gross_sales                 1042664 non-null  float64\n",
      " 27  py_sales_cost                   1042664 non-null  float64\n",
      " 28  ppy_sales_cost                  1042664 non-null  float64\n",
      " 29  LOOKUP_CNT_PY                   1042664 non-null  float64\n",
      " 30  WEIGHTED_LOOKUP_CNT_PY          1042664 non-null  float64\n",
      " 31  py_qty_sold_transfer            1042664 non-null  float64\n",
      " 32  py_qty_sold_on_hand             1042664 non-null  float64\n",
      " 33  ppy_qty_sold_transfer           1042664 non-null  float64\n",
      " 34  ppy_qty_sold_on_hand            1042664 non-null  float64\n",
      " 35  fy_ts_forecast                  1042664 non-null  float64\n",
      "dtypes: float64(31), int64(5)\n",
      "memory usage: 286.4 MB\n"
     ]
    }
   ],
   "source": [
    "filters_pi_model.info()"
   ]
  },
  {
   "cell_type": "code",
   "execution_count": 93,
   "id": "23674348",
   "metadata": {},
   "outputs": [
    {
     "data": {
      "text/html": [
       "<div>\n",
       "<style scoped>\n",
       "    .dataframe tbody tr th:only-of-type {\n",
       "        vertical-align: middle;\n",
       "    }\n",
       "\n",
       "    .dataframe tbody tr th {\n",
       "        vertical-align: top;\n",
       "    }\n",
       "\n",
       "    .dataframe thead th {\n",
       "        text-align: right;\n",
       "    }\n",
       "</style>\n",
       "<table border=\"1\" class=\"dataframe\">\n",
       "  <thead>\n",
       "    <tr style=\"text-align: right;\">\n",
       "      <th></th>\n",
       "      <th>count</th>\n",
       "      <th>mean</th>\n",
       "      <th>std</th>\n",
       "      <th>min</th>\n",
       "      <th>25%</th>\n",
       "      <th>50%</th>\n",
       "      <th>75%</th>\n",
       "      <th>max</th>\n",
       "    </tr>\n",
       "  </thead>\n",
       "  <tbody>\n",
       "    <tr>\n",
       "      <th>SKU_NUMBER</th>\n",
       "      <td>1042664.0</td>\n",
       "      <td>1.160964e+07</td>\n",
       "      <td>3.107364e+06</td>\n",
       "      <td>3.231119e+06</td>\n",
       "      <td>1.070902e+07</td>\n",
       "      <td>1.138103e+07</td>\n",
       "      <td>1.191212e+07</td>\n",
       "      <td>2.288035e+07</td>\n",
       "    </tr>\n",
       "    <tr>\n",
       "      <th>STORE_NUMBER</th>\n",
       "      <td>1042664.0</td>\n",
       "      <td>6.487597e+03</td>\n",
       "      <td>2.339336e+03</td>\n",
       "      <td>1.000000e+03</td>\n",
       "      <td>5.280000e+03</td>\n",
       "      <td>6.738000e+03</td>\n",
       "      <td>8.469000e+03</td>\n",
       "      <td>9.982000e+03</td>\n",
       "    </tr>\n",
       "    <tr>\n",
       "      <th>APPLICATION_COUNT</th>\n",
       "      <td>1042664.0</td>\n",
       "      <td>3.334727e+02</td>\n",
       "      <td>1.460063e+03</td>\n",
       "      <td>0.000000e+00</td>\n",
       "      <td>3.600000e+01</td>\n",
       "      <td>1.040000e+02</td>\n",
       "      <td>2.770000e+02</td>\n",
       "      <td>1.813000e+04</td>\n",
       "    </tr>\n",
       "    <tr>\n",
       "      <th>ESTABLISHMENTS</th>\n",
       "      <td>1042664.0</td>\n",
       "      <td>3.529046e+02</td>\n",
       "      <td>2.564220e+02</td>\n",
       "      <td>0.000000e+00</td>\n",
       "      <td>1.982800e+02</td>\n",
       "      <td>3.053400e+02</td>\n",
       "      <td>4.508100e+02</td>\n",
       "      <td>2.462500e+03</td>\n",
       "    </tr>\n",
       "    <tr>\n",
       "      <th>SKU_EXISTENCE_PY</th>\n",
       "      <td>1042664.0</td>\n",
       "      <td>1.060681e+01</td>\n",
       "      <td>1.709068e+00</td>\n",
       "      <td>0.000000e+00</td>\n",
       "      <td>1.100000e+01</td>\n",
       "      <td>1.100000e+01</td>\n",
       "      <td>1.100000e+01</td>\n",
       "      <td>1.100000e+01</td>\n",
       "    </tr>\n",
       "    <tr>\n",
       "      <th>SKU_STORE_PDQ_PY</th>\n",
       "      <td>1042664.0</td>\n",
       "      <td>1.056565e+01</td>\n",
       "      <td>1.827447e+00</td>\n",
       "      <td>0.000000e+00</td>\n",
       "      <td>1.100000e+01</td>\n",
       "      <td>1.100000e+01</td>\n",
       "      <td>1.100000e+01</td>\n",
       "      <td>1.100000e+01</td>\n",
       "    </tr>\n",
       "    <tr>\n",
       "      <th>TOTAL_VIO_PY</th>\n",
       "      <td>1042664.0</td>\n",
       "      <td>1.503902e+02</td>\n",
       "      <td>6.929746e+02</td>\n",
       "      <td>0.000000e+00</td>\n",
       "      <td>1.290071e+01</td>\n",
       "      <td>4.824923e+01</td>\n",
       "      <td>1.159629e+02</td>\n",
       "      <td>2.950915e+04</td>\n",
       "    </tr>\n",
       "    <tr>\n",
       "      <th>UNADJUSTED_TOTAL_VIO_PY</th>\n",
       "      <td>1042664.0</td>\n",
       "      <td>1.388997e+04</td>\n",
       "      <td>6.444145e+04</td>\n",
       "      <td>0.000000e+00</td>\n",
       "      <td>1.388000e+03</td>\n",
       "      <td>4.715000e+03</td>\n",
       "      <td>1.077700e+04</td>\n",
       "      <td>4.200187e+06</td>\n",
       "    </tr>\n",
       "    <tr>\n",
       "      <th>SS_SALES_PY</th>\n",
       "      <td>1042664.0</td>\n",
       "      <td>4.603592e-05</td>\n",
       "      <td>2.438502e-02</td>\n",
       "      <td>0.000000e+00</td>\n",
       "      <td>0.000000e+00</td>\n",
       "      <td>0.000000e+00</td>\n",
       "      <td>0.000000e+00</td>\n",
       "      <td>2.400000e+01</td>\n",
       "    </tr>\n",
       "    <tr>\n",
       "      <th>AVG_CLUSTER_UNIT_SALES_PY</th>\n",
       "      <td>1042664.0</td>\n",
       "      <td>2.146858e+00</td>\n",
       "      <td>3.521330e+00</td>\n",
       "      <td>-1.000000e+00</td>\n",
       "      <td>3.000000e-01</td>\n",
       "      <td>1.200000e+00</td>\n",
       "      <td>2.700000e+00</td>\n",
       "      <td>1.190000e+02</td>\n",
       "    </tr>\n",
       "    <tr>\n",
       "      <th>AVG_CLUSTER_LOST_SALES_PY</th>\n",
       "      <td>1042664.0</td>\n",
       "      <td>0.000000e+00</td>\n",
       "      <td>0.000000e+00</td>\n",
       "      <td>0.000000e+00</td>\n",
       "      <td>0.000000e+00</td>\n",
       "      <td>0.000000e+00</td>\n",
       "      <td>0.000000e+00</td>\n",
       "      <td>0.000000e+00</td>\n",
       "    </tr>\n",
       "    <tr>\n",
       "      <th>VIO_COMPARED_TO_CLUSTER_PY</th>\n",
       "      <td>1042664.0</td>\n",
       "      <td>1.000147e+00</td>\n",
       "      <td>3.345143e-01</td>\n",
       "      <td>1.401244e-01</td>\n",
       "      <td>7.836549e-01</td>\n",
       "      <td>9.870451e-01</td>\n",
       "      <td>1.148257e+00</td>\n",
       "      <td>5.221004e+00</td>\n",
       "    </tr>\n",
       "    <tr>\n",
       "      <th>ADJUSTED_AVG_CLUSTER_SALES_PY</th>\n",
       "      <td>1042664.0</td>\n",
       "      <td>2.147071e+00</td>\n",
       "      <td>3.772249e+00</td>\n",
       "      <td>-1.000000e+00</td>\n",
       "      <td>2.760157e-01</td>\n",
       "      <td>1.109932e+00</td>\n",
       "      <td>2.615573e+00</td>\n",
       "      <td>1.676757e+02</td>\n",
       "    </tr>\n",
       "    <tr>\n",
       "      <th>QTY_SOLD_PPY</th>\n",
       "      <td>1042664.0</td>\n",
       "      <td>2.189446e+00</td>\n",
       "      <td>5.903708e+00</td>\n",
       "      <td>-6.000000e+00</td>\n",
       "      <td>0.000000e+00</td>\n",
       "      <td>0.000000e+00</td>\n",
       "      <td>2.000000e+00</td>\n",
       "      <td>1.261000e+03</td>\n",
       "    </tr>\n",
       "    <tr>\n",
       "      <th>QTY_SOLD_PY</th>\n",
       "      <td>1042664.0</td>\n",
       "      <td>2.357584e+00</td>\n",
       "      <td>8.255684e+00</td>\n",
       "      <td>-1.200000e+01</td>\n",
       "      <td>0.000000e+00</td>\n",
       "      <td>1.000000e+00</td>\n",
       "      <td>3.000000e+00</td>\n",
       "      <td>4.020000e+03</td>\n",
       "    </tr>\n",
       "    <tr>\n",
       "      <th>QTY_SOLD_CY</th>\n",
       "      <td>1042664.0</td>\n",
       "      <td>2.543162e+00</td>\n",
       "      <td>1.022256e+01</td>\n",
       "      <td>-1.700000e+01</td>\n",
       "      <td>0.000000e+00</td>\n",
       "      <td>1.000000e+00</td>\n",
       "      <td>3.000000e+00</td>\n",
       "      <td>5.704000e+03</td>\n",
       "    </tr>\n",
       "    <tr>\n",
       "      <th>AVG_CLUSTER_TOTAL_SALES_PY</th>\n",
       "      <td>1042664.0</td>\n",
       "      <td>2.146858e+00</td>\n",
       "      <td>3.521330e+00</td>\n",
       "      <td>-1.000000e+00</td>\n",
       "      <td>3.000000e-01</td>\n",
       "      <td>1.200000e+00</td>\n",
       "      <td>2.700000e+00</td>\n",
       "      <td>1.190000e+02</td>\n",
       "    </tr>\n",
       "    <tr>\n",
       "      <th>SALES_SIGNAL_PY</th>\n",
       "      <td>1042664.0</td>\n",
       "      <td>2.357632e+00</td>\n",
       "      <td>8.257214e+00</td>\n",
       "      <td>-1.200000e+01</td>\n",
       "      <td>0.000000e+00</td>\n",
       "      <td>1.000000e+00</td>\n",
       "      <td>3.000000e+00</td>\n",
       "      <td>4.023000e+03</td>\n",
       "    </tr>\n",
       "    <tr>\n",
       "      <th>FAILURE_SALES_PY</th>\n",
       "      <td>1042664.0</td>\n",
       "      <td>8.016105e+00</td>\n",
       "      <td>1.400283e+01</td>\n",
       "      <td>0.000000e+00</td>\n",
       "      <td>1.197686e+00</td>\n",
       "      <td>3.717206e+00</td>\n",
       "      <td>8.708359e+00</td>\n",
       "      <td>4.348959e+02</td>\n",
       "    </tr>\n",
       "    <tr>\n",
       "      <th>LIFECYCLE_PY</th>\n",
       "      <td>1042664.0</td>\n",
       "      <td>8.767919e-01</td>\n",
       "      <td>7.127060e-01</td>\n",
       "      <td>0.000000e+00</td>\n",
       "      <td>4.000000e-01</td>\n",
       "      <td>7.500000e-01</td>\n",
       "      <td>1.430000e+00</td>\n",
       "      <td>3.040000e+00</td>\n",
       "    </tr>\n",
       "    <tr>\n",
       "      <th>ADJUSTED_LIFECYCLE_PY</th>\n",
       "      <td>1042664.0</td>\n",
       "      <td>1.360851e+00</td>\n",
       "      <td>1.790474e+00</td>\n",
       "      <td>0.000000e+00</td>\n",
       "      <td>1.600000e-01</td>\n",
       "      <td>6.800000e-01</td>\n",
       "      <td>2.160000e+00</td>\n",
       "      <td>9.230000e+00</td>\n",
       "    </tr>\n",
       "    <tr>\n",
       "      <th>ADJ_AVG_CLUSTER_LOST_SALES_PY</th>\n",
       "      <td>1042664.0</td>\n",
       "      <td>0.000000e+00</td>\n",
       "      <td>0.000000e+00</td>\n",
       "      <td>0.000000e+00</td>\n",
       "      <td>0.000000e+00</td>\n",
       "      <td>0.000000e+00</td>\n",
       "      <td>0.000000e+00</td>\n",
       "      <td>0.000000e+00</td>\n",
       "    </tr>\n",
       "    <tr>\n",
       "      <th>ADJ_AVG_CLUSTER_TOTAL_SALES_PY</th>\n",
       "      <td>1042664.0</td>\n",
       "      <td>2.147071e+00</td>\n",
       "      <td>3.772249e+00</td>\n",
       "      <td>-1.000000e+00</td>\n",
       "      <td>2.760157e-01</td>\n",
       "      <td>1.109932e+00</td>\n",
       "      <td>2.615573e+00</td>\n",
       "      <td>1.676757e+02</td>\n",
       "    </tr>\n",
       "    <tr>\n",
       "      <th>py_unit_sales</th>\n",
       "      <td>1042664.0</td>\n",
       "      <td>1.012089e+04</td>\n",
       "      <td>1.188729e+04</td>\n",
       "      <td>0.000000e+00</td>\n",
       "      <td>3.440000e+03</td>\n",
       "      <td>7.197000e+03</td>\n",
       "      <td>1.284800e+04</td>\n",
       "      <td>1.027730e+05</td>\n",
       "    </tr>\n",
       "    <tr>\n",
       "      <th>ppy_unit_sales</th>\n",
       "      <td>1042664.0</td>\n",
       "      <td>9.334072e+03</td>\n",
       "      <td>1.409774e+04</td>\n",
       "      <td>0.000000e+00</td>\n",
       "      <td>1.113000e+03</td>\n",
       "      <td>3.989000e+03</td>\n",
       "      <td>1.202300e+04</td>\n",
       "      <td>9.720500e+04</td>\n",
       "    </tr>\n",
       "    <tr>\n",
       "      <th>py_gross_sales</th>\n",
       "      <td>1042664.0</td>\n",
       "      <td>3.621037e+01</td>\n",
       "      <td>8.478246e+01</td>\n",
       "      <td>-2.999500e+02</td>\n",
       "      <td>0.000000e+00</td>\n",
       "      <td>1.200000e+01</td>\n",
       "      <td>4.080000e+01</td>\n",
       "      <td>7.795370e+03</td>\n",
       "    </tr>\n",
       "    <tr>\n",
       "      <th>ppy_gross_sales</th>\n",
       "      <td>1042664.0</td>\n",
       "      <td>3.307066e+01</td>\n",
       "      <td>8.654095e+01</td>\n",
       "      <td>-3.799500e+02</td>\n",
       "      <td>0.000000e+00</td>\n",
       "      <td>0.000000e+00</td>\n",
       "      <td>3.390000e+01</td>\n",
       "      <td>8.627470e+03</td>\n",
       "    </tr>\n",
       "    <tr>\n",
       "      <th>py_sales_cost</th>\n",
       "      <td>1042664.0</td>\n",
       "      <td>1.059249e+01</td>\n",
       "      <td>2.639041e+01</td>\n",
       "      <td>-1.195000e+02</td>\n",
       "      <td>0.000000e+00</td>\n",
       "      <td>3.130000e+00</td>\n",
       "      <td>1.146000e+01</td>\n",
       "      <td>4.768610e+03</td>\n",
       "    </tr>\n",
       "    <tr>\n",
       "      <th>ppy_sales_cost</th>\n",
       "      <td>1042664.0</td>\n",
       "      <td>9.219981e+00</td>\n",
       "      <td>2.492222e+01</td>\n",
       "      <td>-1.373000e+02</td>\n",
       "      <td>0.000000e+00</td>\n",
       "      <td>0.000000e+00</td>\n",
       "      <td>8.900000e+00</td>\n",
       "      <td>3.544650e+03</td>\n",
       "    </tr>\n",
       "    <tr>\n",
       "      <th>LOOKUP_CNT_PY</th>\n",
       "      <td>1042664.0</td>\n",
       "      <td>2.964554e+00</td>\n",
       "      <td>1.385929e+01</td>\n",
       "      <td>0.000000e+00</td>\n",
       "      <td>0.000000e+00</td>\n",
       "      <td>0.000000e+00</td>\n",
       "      <td>0.000000e+00</td>\n",
       "      <td>1.329000e+03</td>\n",
       "    </tr>\n",
       "    <tr>\n",
       "      <th>WEIGHTED_LOOKUP_CNT_PY</th>\n",
       "      <td>1042664.0</td>\n",
       "      <td>7.605740e-01</td>\n",
       "      <td>3.721760e+00</td>\n",
       "      <td>0.000000e+00</td>\n",
       "      <td>0.000000e+00</td>\n",
       "      <td>0.000000e+00</td>\n",
       "      <td>0.000000e+00</td>\n",
       "      <td>3.226182e+02</td>\n",
       "    </tr>\n",
       "    <tr>\n",
       "      <th>py_qty_sold_transfer</th>\n",
       "      <td>1042664.0</td>\n",
       "      <td>6.753374e-02</td>\n",
       "      <td>7.628350e-01</td>\n",
       "      <td>-9.000000e+00</td>\n",
       "      <td>0.000000e+00</td>\n",
       "      <td>0.000000e+00</td>\n",
       "      <td>0.000000e+00</td>\n",
       "      <td>3.600000e+02</td>\n",
       "    </tr>\n",
       "    <tr>\n",
       "      <th>py_qty_sold_on_hand</th>\n",
       "      <td>1042664.0</td>\n",
       "      <td>2.290050e+00</td>\n",
       "      <td>8.138193e+00</td>\n",
       "      <td>-4.100000e+01</td>\n",
       "      <td>0.000000e+00</td>\n",
       "      <td>1.000000e+00</td>\n",
       "      <td>3.000000e+00</td>\n",
       "      <td>4.020000e+03</td>\n",
       "    </tr>\n",
       "    <tr>\n",
       "      <th>ppy_qty_sold_transfer</th>\n",
       "      <td>1042664.0</td>\n",
       "      <td>5.993014e-02</td>\n",
       "      <td>1.003826e+00</td>\n",
       "      <td>-1.400000e+01</td>\n",
       "      <td>0.000000e+00</td>\n",
       "      <td>0.000000e+00</td>\n",
       "      <td>0.000000e+00</td>\n",
       "      <td>5.950000e+02</td>\n",
       "    </tr>\n",
       "    <tr>\n",
       "      <th>ppy_qty_sold_on_hand</th>\n",
       "      <td>1042664.0</td>\n",
       "      <td>2.129516e+00</td>\n",
       "      <td>5.676806e+00</td>\n",
       "      <td>-6.000000e+00</td>\n",
       "      <td>0.000000e+00</td>\n",
       "      <td>0.000000e+00</td>\n",
       "      <td>2.000000e+00</td>\n",
       "      <td>6.660000e+02</td>\n",
       "    </tr>\n",
       "    <tr>\n",
       "      <th>fy_ts_forecast</th>\n",
       "      <td>1042664.0</td>\n",
       "      <td>1.093469e+04</td>\n",
       "      <td>1.210674e+04</td>\n",
       "      <td>0.000000e+00</td>\n",
       "      <td>3.650000e+03</td>\n",
       "      <td>7.875000e+03</td>\n",
       "      <td>1.398000e+04</td>\n",
       "      <td>1.143280e+05</td>\n",
       "    </tr>\n",
       "  </tbody>\n",
       "</table>\n",
       "</div>"
      ],
      "text/plain": [
       "                                    count          mean           std  \\\n",
       "SKU_NUMBER                      1042664.0  1.160964e+07  3.107364e+06   \n",
       "STORE_NUMBER                    1042664.0  6.487597e+03  2.339336e+03   \n",
       "APPLICATION_COUNT               1042664.0  3.334727e+02  1.460063e+03   \n",
       "ESTABLISHMENTS                  1042664.0  3.529046e+02  2.564220e+02   \n",
       "SKU_EXISTENCE_PY                1042664.0  1.060681e+01  1.709068e+00   \n",
       "SKU_STORE_PDQ_PY                1042664.0  1.056565e+01  1.827447e+00   \n",
       "TOTAL_VIO_PY                    1042664.0  1.503902e+02  6.929746e+02   \n",
       "UNADJUSTED_TOTAL_VIO_PY         1042664.0  1.388997e+04  6.444145e+04   \n",
       "SS_SALES_PY                     1042664.0  4.603592e-05  2.438502e-02   \n",
       "AVG_CLUSTER_UNIT_SALES_PY       1042664.0  2.146858e+00  3.521330e+00   \n",
       "AVG_CLUSTER_LOST_SALES_PY       1042664.0  0.000000e+00  0.000000e+00   \n",
       "VIO_COMPARED_TO_CLUSTER_PY      1042664.0  1.000147e+00  3.345143e-01   \n",
       "ADJUSTED_AVG_CLUSTER_SALES_PY   1042664.0  2.147071e+00  3.772249e+00   \n",
       "QTY_SOLD_PPY                    1042664.0  2.189446e+00  5.903708e+00   \n",
       "QTY_SOLD_PY                     1042664.0  2.357584e+00  8.255684e+00   \n",
       "QTY_SOLD_CY                     1042664.0  2.543162e+00  1.022256e+01   \n",
       "AVG_CLUSTER_TOTAL_SALES_PY      1042664.0  2.146858e+00  3.521330e+00   \n",
       "SALES_SIGNAL_PY                 1042664.0  2.357632e+00  8.257214e+00   \n",
       "FAILURE_SALES_PY                1042664.0  8.016105e+00  1.400283e+01   \n",
       "LIFECYCLE_PY                    1042664.0  8.767919e-01  7.127060e-01   \n",
       "ADJUSTED_LIFECYCLE_PY           1042664.0  1.360851e+00  1.790474e+00   \n",
       "ADJ_AVG_CLUSTER_LOST_SALES_PY   1042664.0  0.000000e+00  0.000000e+00   \n",
       "ADJ_AVG_CLUSTER_TOTAL_SALES_PY  1042664.0  2.147071e+00  3.772249e+00   \n",
       "py_unit_sales                   1042664.0  1.012089e+04  1.188729e+04   \n",
       "ppy_unit_sales                  1042664.0  9.334072e+03  1.409774e+04   \n",
       "py_gross_sales                  1042664.0  3.621037e+01  8.478246e+01   \n",
       "ppy_gross_sales                 1042664.0  3.307066e+01  8.654095e+01   \n",
       "py_sales_cost                   1042664.0  1.059249e+01  2.639041e+01   \n",
       "ppy_sales_cost                  1042664.0  9.219981e+00  2.492222e+01   \n",
       "LOOKUP_CNT_PY                   1042664.0  2.964554e+00  1.385929e+01   \n",
       "WEIGHTED_LOOKUP_CNT_PY          1042664.0  7.605740e-01  3.721760e+00   \n",
       "py_qty_sold_transfer            1042664.0  6.753374e-02  7.628350e-01   \n",
       "py_qty_sold_on_hand             1042664.0  2.290050e+00  8.138193e+00   \n",
       "ppy_qty_sold_transfer           1042664.0  5.993014e-02  1.003826e+00   \n",
       "ppy_qty_sold_on_hand            1042664.0  2.129516e+00  5.676806e+00   \n",
       "fy_ts_forecast                  1042664.0  1.093469e+04  1.210674e+04   \n",
       "\n",
       "                                         min           25%           50%  \\\n",
       "SKU_NUMBER                      3.231119e+06  1.070902e+07  1.138103e+07   \n",
       "STORE_NUMBER                    1.000000e+03  5.280000e+03  6.738000e+03   \n",
       "APPLICATION_COUNT               0.000000e+00  3.600000e+01  1.040000e+02   \n",
       "ESTABLISHMENTS                  0.000000e+00  1.982800e+02  3.053400e+02   \n",
       "SKU_EXISTENCE_PY                0.000000e+00  1.100000e+01  1.100000e+01   \n",
       "SKU_STORE_PDQ_PY                0.000000e+00  1.100000e+01  1.100000e+01   \n",
       "TOTAL_VIO_PY                    0.000000e+00  1.290071e+01  4.824923e+01   \n",
       "UNADJUSTED_TOTAL_VIO_PY         0.000000e+00  1.388000e+03  4.715000e+03   \n",
       "SS_SALES_PY                     0.000000e+00  0.000000e+00  0.000000e+00   \n",
       "AVG_CLUSTER_UNIT_SALES_PY      -1.000000e+00  3.000000e-01  1.200000e+00   \n",
       "AVG_CLUSTER_LOST_SALES_PY       0.000000e+00  0.000000e+00  0.000000e+00   \n",
       "VIO_COMPARED_TO_CLUSTER_PY      1.401244e-01  7.836549e-01  9.870451e-01   \n",
       "ADJUSTED_AVG_CLUSTER_SALES_PY  -1.000000e+00  2.760157e-01  1.109932e+00   \n",
       "QTY_SOLD_PPY                   -6.000000e+00  0.000000e+00  0.000000e+00   \n",
       "QTY_SOLD_PY                    -1.200000e+01  0.000000e+00  1.000000e+00   \n",
       "QTY_SOLD_CY                    -1.700000e+01  0.000000e+00  1.000000e+00   \n",
       "AVG_CLUSTER_TOTAL_SALES_PY     -1.000000e+00  3.000000e-01  1.200000e+00   \n",
       "SALES_SIGNAL_PY                -1.200000e+01  0.000000e+00  1.000000e+00   \n",
       "FAILURE_SALES_PY                0.000000e+00  1.197686e+00  3.717206e+00   \n",
       "LIFECYCLE_PY                    0.000000e+00  4.000000e-01  7.500000e-01   \n",
       "ADJUSTED_LIFECYCLE_PY           0.000000e+00  1.600000e-01  6.800000e-01   \n",
       "ADJ_AVG_CLUSTER_LOST_SALES_PY   0.000000e+00  0.000000e+00  0.000000e+00   \n",
       "ADJ_AVG_CLUSTER_TOTAL_SALES_PY -1.000000e+00  2.760157e-01  1.109932e+00   \n",
       "py_unit_sales                   0.000000e+00  3.440000e+03  7.197000e+03   \n",
       "ppy_unit_sales                  0.000000e+00  1.113000e+03  3.989000e+03   \n",
       "py_gross_sales                 -2.999500e+02  0.000000e+00  1.200000e+01   \n",
       "ppy_gross_sales                -3.799500e+02  0.000000e+00  0.000000e+00   \n",
       "py_sales_cost                  -1.195000e+02  0.000000e+00  3.130000e+00   \n",
       "ppy_sales_cost                 -1.373000e+02  0.000000e+00  0.000000e+00   \n",
       "LOOKUP_CNT_PY                   0.000000e+00  0.000000e+00  0.000000e+00   \n",
       "WEIGHTED_LOOKUP_CNT_PY          0.000000e+00  0.000000e+00  0.000000e+00   \n",
       "py_qty_sold_transfer           -9.000000e+00  0.000000e+00  0.000000e+00   \n",
       "py_qty_sold_on_hand            -4.100000e+01  0.000000e+00  1.000000e+00   \n",
       "ppy_qty_sold_transfer          -1.400000e+01  0.000000e+00  0.000000e+00   \n",
       "ppy_qty_sold_on_hand           -6.000000e+00  0.000000e+00  0.000000e+00   \n",
       "fy_ts_forecast                  0.000000e+00  3.650000e+03  7.875000e+03   \n",
       "\n",
       "                                         75%           max  \n",
       "SKU_NUMBER                      1.191212e+07  2.288035e+07  \n",
       "STORE_NUMBER                    8.469000e+03  9.982000e+03  \n",
       "APPLICATION_COUNT               2.770000e+02  1.813000e+04  \n",
       "ESTABLISHMENTS                  4.508100e+02  2.462500e+03  \n",
       "SKU_EXISTENCE_PY                1.100000e+01  1.100000e+01  \n",
       "SKU_STORE_PDQ_PY                1.100000e+01  1.100000e+01  \n",
       "TOTAL_VIO_PY                    1.159629e+02  2.950915e+04  \n",
       "UNADJUSTED_TOTAL_VIO_PY         1.077700e+04  4.200187e+06  \n",
       "SS_SALES_PY                     0.000000e+00  2.400000e+01  \n",
       "AVG_CLUSTER_UNIT_SALES_PY       2.700000e+00  1.190000e+02  \n",
       "AVG_CLUSTER_LOST_SALES_PY       0.000000e+00  0.000000e+00  \n",
       "VIO_COMPARED_TO_CLUSTER_PY      1.148257e+00  5.221004e+00  \n",
       "ADJUSTED_AVG_CLUSTER_SALES_PY   2.615573e+00  1.676757e+02  \n",
       "QTY_SOLD_PPY                    2.000000e+00  1.261000e+03  \n",
       "QTY_SOLD_PY                     3.000000e+00  4.020000e+03  \n",
       "QTY_SOLD_CY                     3.000000e+00  5.704000e+03  \n",
       "AVG_CLUSTER_TOTAL_SALES_PY      2.700000e+00  1.190000e+02  \n",
       "SALES_SIGNAL_PY                 3.000000e+00  4.023000e+03  \n",
       "FAILURE_SALES_PY                8.708359e+00  4.348959e+02  \n",
       "LIFECYCLE_PY                    1.430000e+00  3.040000e+00  \n",
       "ADJUSTED_LIFECYCLE_PY           2.160000e+00  9.230000e+00  \n",
       "ADJ_AVG_CLUSTER_LOST_SALES_PY   0.000000e+00  0.000000e+00  \n",
       "ADJ_AVG_CLUSTER_TOTAL_SALES_PY  2.615573e+00  1.676757e+02  \n",
       "py_unit_sales                   1.284800e+04  1.027730e+05  \n",
       "ppy_unit_sales                  1.202300e+04  9.720500e+04  \n",
       "py_gross_sales                  4.080000e+01  7.795370e+03  \n",
       "ppy_gross_sales                 3.390000e+01  8.627470e+03  \n",
       "py_sales_cost                   1.146000e+01  4.768610e+03  \n",
       "ppy_sales_cost                  8.900000e+00  3.544650e+03  \n",
       "LOOKUP_CNT_PY                   0.000000e+00  1.329000e+03  \n",
       "WEIGHTED_LOOKUP_CNT_PY          0.000000e+00  3.226182e+02  \n",
       "py_qty_sold_transfer            0.000000e+00  3.600000e+02  \n",
       "py_qty_sold_on_hand             3.000000e+00  4.020000e+03  \n",
       "ppy_qty_sold_transfer           0.000000e+00  5.950000e+02  \n",
       "ppy_qty_sold_on_hand            2.000000e+00  6.660000e+02  \n",
       "fy_ts_forecast                  1.398000e+04  1.143280e+05  "
      ]
     },
     "execution_count": 93,
     "metadata": {},
     "output_type": "execute_result"
    }
   ],
   "source": [
    "filters_pi_model.describe().T"
   ]
  },
  {
   "cell_type": "code",
   "execution_count": 94,
   "id": "0d75e90b",
   "metadata": {},
   "outputs": [
    {
     "name": "stdout",
     "output_type": "stream",
     "text": [
      "<class 'pandas.core.series.Series'>\n"
     ]
    },
    {
     "data": {
      "text/plain": [
       "Series([], dtype: float64)"
      ]
     },
     "execution_count": 94,
     "metadata": {},
     "output_type": "execute_result"
    }
   ],
   "source": [
    "# % missings\n",
    "a=filters_pi_model.isnull().mean()*100\n",
    "print(type(filters_pi_model.isnull().mean()*100))\n",
    "a[a > 0]\n",
    "\n",
    "# NO MISSINGS !"
   ]
  },
  {
   "cell_type": "code",
   "execution_count": 3,
   "id": "c564affc",
   "metadata": {},
   "outputs": [
    {
     "data": {
      "image/png": "[encoded data removed]",
      "text/plain": [
       "<Figure size 1080x576 with 2 Axes>"
      ]
     },
     "metadata": {
      "needs_background": "light"
     },
     "output_type": "display_data"
    }
   ],
   "source": [
    "plt.figure(figsize=(15,8))\n",
    "\n",
    "corr = filters_pi_model.corr()\n",
    "\n",
    "mask = np.triu(np.ones_like(corr, dtype=bool))\n",
    "\n",
    "for i in range(len(mask)):\n",
    "    mask[i][i] = False\n",
    "\n",
    "sns.heatmap(corr, cmap='PuBu', mask=mask, square=True, annot=False)\n",
    "plt.show()"
   ]
  },
  {
   "cell_type": "code",
   "execution_count": 96,
   "id": "ccf4802d",
   "metadata": {},
   "outputs": [
    {
     "data": {
      "text/plain": [
       "<AxesSubplot:>"
      ]
     },
     "execution_count": 96,
     "metadata": {},
     "output_type": "execute_result"
    },
    {
     "data": {
      "image/png": "[encoded data removed]",
      "text/plain": [
       "<Figure size 864x576 with 2 Axes>"
      ]
     },
     "metadata": {
      "needs_background": "light"
     },
     "output_type": "display_data"
    }
   ],
   "source": [
    "# Plotting correlations above .75\n",
    "\n",
    "corr = filters_pi_model.corr()\n",
    "\n",
    "kot = corr[corr>=.75]\n",
    "plt.figure(figsize=(12,8))\n",
    "sns.heatmap(kot, cmap=\"Greens\")"
   ]
  },
  {
   "cell_type": "code",
   "execution_count": 99,
   "id": "4f45b35c",
   "metadata": {},
   "outputs": [
    {
     "data": {
      "text/html": [
       "<div>\n",
       "<style scoped>\n",
       "    .dataframe tbody tr th:only-of-type {\n",
       "        vertical-align: middle;\n",
       "    }\n",
       "\n",
       "    .dataframe tbody tr th {\n",
       "        vertical-align: top;\n",
       "    }\n",
       "\n",
       "    .dataframe thead th {\n",
       "        text-align: right;\n",
       "    }\n",
       "</style>\n",
       "<table border=\"1\" class=\"dataframe\">\n",
       "  <thead>\n",
       "    <tr style=\"text-align: right;\">\n",
       "      <th></th>\n",
       "      <th>AVG_CLUSTER_UNIT_SALES_PY</th>\n",
       "      <th>AVG_CLUSTER_TOTAL_SALES_PY</th>\n",
       "    </tr>\n",
       "  </thead>\n",
       "  <tbody>\n",
       "    <tr>\n",
       "      <th>0</th>\n",
       "      <td>1.12</td>\n",
       "      <td>1.12</td>\n",
       "    </tr>\n",
       "    <tr>\n",
       "      <th>1</th>\n",
       "      <td>0.00</td>\n",
       "      <td>0.00</td>\n",
       "    </tr>\n",
       "    <tr>\n",
       "      <th>2</th>\n",
       "      <td>1.13</td>\n",
       "      <td>1.13</td>\n",
       "    </tr>\n",
       "    <tr>\n",
       "      <th>3</th>\n",
       "      <td>1.41</td>\n",
       "      <td>1.41</td>\n",
       "    </tr>\n",
       "    <tr>\n",
       "      <th>4</th>\n",
       "      <td>0.43</td>\n",
       "      <td>0.43</td>\n",
       "    </tr>\n",
       "    <tr>\n",
       "      <th>...</th>\n",
       "      <td>...</td>\n",
       "      <td>...</td>\n",
       "    </tr>\n",
       "    <tr>\n",
       "      <th>1042659</th>\n",
       "      <td>15.26</td>\n",
       "      <td>15.26</td>\n",
       "    </tr>\n",
       "    <tr>\n",
       "      <th>1042660</th>\n",
       "      <td>15.26</td>\n",
       "      <td>15.26</td>\n",
       "    </tr>\n",
       "    <tr>\n",
       "      <th>1042661</th>\n",
       "      <td>19.00</td>\n",
       "      <td>19.00</td>\n",
       "    </tr>\n",
       "    <tr>\n",
       "      <th>1042662</th>\n",
       "      <td>1.69</td>\n",
       "      <td>1.69</td>\n",
       "    </tr>\n",
       "    <tr>\n",
       "      <th>1042663</th>\n",
       "      <td>1.69</td>\n",
       "      <td>1.69</td>\n",
       "    </tr>\n",
       "  </tbody>\n",
       "</table>\n",
       "<p>1042664 rows × 2 columns</p>\n",
       "</div>"
      ],
      "text/plain": [
       "         AVG_CLUSTER_UNIT_SALES_PY  AVG_CLUSTER_TOTAL_SALES_PY\n",
       "0                             1.12                        1.12\n",
       "1                             0.00                        0.00\n",
       "2                             1.13                        1.13\n",
       "3                             1.41                        1.41\n",
       "4                             0.43                        0.43\n",
       "...                            ...                         ...\n",
       "1042659                      15.26                       15.26\n",
       "1042660                      15.26                       15.26\n",
       "1042661                      19.00                       19.00\n",
       "1042662                       1.69                        1.69\n",
       "1042663                       1.69                        1.69\n",
       "\n",
       "[1042664 rows x 2 columns]"
      ]
     },
     "execution_count": 99,
     "metadata": {},
     "output_type": "execute_result"
    }
   ],
   "source": [
    "#AVG_CLUSTER_UNIT_SALES_PY\n",
    "#AVG_CLUSTER_TOTAL_SALES_PY\n",
    "\n",
    "filters_pi_model[['AVG_CLUSTER_UNIT_SALES_PY','AVG_CLUSTER_TOTAL_SALES_PY']]"
   ]
  },
  {
   "cell_type": "code",
   "execution_count": 101,
   "id": "ddb84103",
   "metadata": {},
   "outputs": [
    {
     "data": {
      "text/html": [
       "<div>\n",
       "<style scoped>\n",
       "    .dataframe tbody tr th:only-of-type {\n",
       "        vertical-align: middle;\n",
       "    }\n",
       "\n",
       "    .dataframe tbody tr th {\n",
       "        vertical-align: top;\n",
       "    }\n",
       "\n",
       "    .dataframe thead th {\n",
       "        text-align: right;\n",
       "    }\n",
       "</style>\n",
       "<table border=\"1\" class=\"dataframe\">\n",
       "  <thead>\n",
       "    <tr style=\"text-align: right;\">\n",
       "      <th></th>\n",
       "      <th>ADJ_AVG_CLUSTER_TOTAL_SALES_PY</th>\n",
       "      <th>ADJUSTED_AVG_CLUSTER_SALES_PY</th>\n",
       "    </tr>\n",
       "  </thead>\n",
       "  <tbody>\n",
       "    <tr>\n",
       "      <th>0</th>\n",
       "      <td>0.984925</td>\n",
       "      <td>0.984925</td>\n",
       "    </tr>\n",
       "    <tr>\n",
       "      <th>1</th>\n",
       "      <td>0.000000</td>\n",
       "      <td>0.000000</td>\n",
       "    </tr>\n",
       "    <tr>\n",
       "      <th>2</th>\n",
       "      <td>1.344129</td>\n",
       "      <td>1.344129</td>\n",
       "    </tr>\n",
       "    <tr>\n",
       "      <th>3</th>\n",
       "      <td>0.661467</td>\n",
       "      <td>0.661467</td>\n",
       "    </tr>\n",
       "    <tr>\n",
       "      <th>4</th>\n",
       "      <td>0.533914</td>\n",
       "      <td>0.533914</td>\n",
       "    </tr>\n",
       "    <tr>\n",
       "      <th>...</th>\n",
       "      <td>...</td>\n",
       "      <td>...</td>\n",
       "    </tr>\n",
       "    <tr>\n",
       "      <th>1042659</th>\n",
       "      <td>12.017153</td>\n",
       "      <td>12.017153</td>\n",
       "    </tr>\n",
       "    <tr>\n",
       "      <th>1042660</th>\n",
       "      <td>22.262370</td>\n",
       "      <td>22.262370</td>\n",
       "    </tr>\n",
       "    <tr>\n",
       "      <th>1042661</th>\n",
       "      <td>28.984394</td>\n",
       "      <td>28.984394</td>\n",
       "    </tr>\n",
       "    <tr>\n",
       "      <th>1042662</th>\n",
       "      <td>0.877545</td>\n",
       "      <td>0.877545</td>\n",
       "    </tr>\n",
       "    <tr>\n",
       "      <th>1042663</th>\n",
       "      <td>1.186600</td>\n",
       "      <td>1.186600</td>\n",
       "    </tr>\n",
       "  </tbody>\n",
       "</table>\n",
       "<p>1042664 rows × 2 columns</p>\n",
       "</div>"
      ],
      "text/plain": [
       "         ADJ_AVG_CLUSTER_TOTAL_SALES_PY  ADJUSTED_AVG_CLUSTER_SALES_PY\n",
       "0                              0.984925                       0.984925\n",
       "1                              0.000000                       0.000000\n",
       "2                              1.344129                       1.344129\n",
       "3                              0.661467                       0.661467\n",
       "4                              0.533914                       0.533914\n",
       "...                                 ...                            ...\n",
       "1042659                       12.017153                      12.017153\n",
       "1042660                       22.262370                      22.262370\n",
       "1042661                       28.984394                      28.984394\n",
       "1042662                        0.877545                       0.877545\n",
       "1042663                        1.186600                       1.186600\n",
       "\n",
       "[1042664 rows x 2 columns]"
      ]
     },
     "execution_count": 101,
     "metadata": {},
     "output_type": "execute_result"
    }
   ],
   "source": [
    "filters_pi_model[['ADJ_AVG_CLUSTER_TOTAL_SALES_PY','ADJUSTED_AVG_CLUSTER_SALES_PY']]"
   ]
  },
  {
   "cell_type": "code",
   "execution_count": 102,
   "id": "5dee4f1e",
   "metadata": {},
   "outputs": [
    {
     "data": {
      "text/html": [
       "<div>\n",
       "<style scoped>\n",
       "    .dataframe tbody tr th:only-of-type {\n",
       "        vertical-align: middle;\n",
       "    }\n",
       "\n",
       "    .dataframe tbody tr th {\n",
       "        vertical-align: top;\n",
       "    }\n",
       "\n",
       "    .dataframe thead th {\n",
       "        text-align: right;\n",
       "    }\n",
       "</style>\n",
       "<table border=\"1\" class=\"dataframe\">\n",
       "  <thead>\n",
       "    <tr style=\"text-align: right;\">\n",
       "      <th></th>\n",
       "      <th>SALES_SIGNAL_PY</th>\n",
       "      <th>QTY_SOLD_PY</th>\n",
       "    </tr>\n",
       "  </thead>\n",
       "  <tbody>\n",
       "    <tr>\n",
       "      <th>0</th>\n",
       "      <td>1.0</td>\n",
       "      <td>1.0</td>\n",
       "    </tr>\n",
       "    <tr>\n",
       "      <th>1</th>\n",
       "      <td>2.0</td>\n",
       "      <td>2.0</td>\n",
       "    </tr>\n",
       "    <tr>\n",
       "      <th>2</th>\n",
       "      <td>1.0</td>\n",
       "      <td>1.0</td>\n",
       "    </tr>\n",
       "    <tr>\n",
       "      <th>3</th>\n",
       "      <td>0.0</td>\n",
       "      <td>0.0</td>\n",
       "    </tr>\n",
       "    <tr>\n",
       "      <th>4</th>\n",
       "      <td>1.0</td>\n",
       "      <td>1.0</td>\n",
       "    </tr>\n",
       "    <tr>\n",
       "      <th>...</th>\n",
       "      <td>...</td>\n",
       "      <td>...</td>\n",
       "    </tr>\n",
       "    <tr>\n",
       "      <th>1042659</th>\n",
       "      <td>15.0</td>\n",
       "      <td>15.0</td>\n",
       "    </tr>\n",
       "    <tr>\n",
       "      <th>1042660</th>\n",
       "      <td>10.0</td>\n",
       "      <td>10.0</td>\n",
       "    </tr>\n",
       "    <tr>\n",
       "      <th>1042661</th>\n",
       "      <td>11.0</td>\n",
       "      <td>11.0</td>\n",
       "    </tr>\n",
       "    <tr>\n",
       "      <th>1042662</th>\n",
       "      <td>2.0</td>\n",
       "      <td>2.0</td>\n",
       "    </tr>\n",
       "    <tr>\n",
       "      <th>1042663</th>\n",
       "      <td>1.0</td>\n",
       "      <td>1.0</td>\n",
       "    </tr>\n",
       "  </tbody>\n",
       "</table>\n",
       "<p>1042664 rows × 2 columns</p>\n",
       "</div>"
      ],
      "text/plain": [
       "         SALES_SIGNAL_PY  QTY_SOLD_PY\n",
       "0                    1.0          1.0\n",
       "1                    2.0          2.0\n",
       "2                    1.0          1.0\n",
       "3                    0.0          0.0\n",
       "4                    1.0          1.0\n",
       "...                  ...          ...\n",
       "1042659             15.0         15.0\n",
       "1042660             10.0         10.0\n",
       "1042661             11.0         11.0\n",
       "1042662              2.0          2.0\n",
       "1042663              1.0          1.0\n",
       "\n",
       "[1042664 rows x 2 columns]"
      ]
     },
     "execution_count": 102,
     "metadata": {},
     "output_type": "execute_result"
    }
   ],
   "source": [
    "filters_pi_model[['SALES_SIGNAL_PY','QTY_SOLD_PY']]"
   ]
  },
  {
   "cell_type": "code",
   "execution_count": 104,
   "id": "64a180c3",
   "metadata": {},
   "outputs": [
    {
     "data": {
      "text/html": [
       "<div>\n",
       "<style scoped>\n",
       "    .dataframe tbody tr th:only-of-type {\n",
       "        vertical-align: middle;\n",
       "    }\n",
       "\n",
       "    .dataframe tbody tr th {\n",
       "        vertical-align: top;\n",
       "    }\n",
       "\n",
       "    .dataframe thead th {\n",
       "        text-align: right;\n",
       "    }\n",
       "</style>\n",
       "<table border=\"1\" class=\"dataframe\">\n",
       "  <thead>\n",
       "    <tr style=\"text-align: right;\">\n",
       "      <th></th>\n",
       "      <th>SALES_SIGNAL_PY</th>\n",
       "      <th>py_qty_sold_on_hand</th>\n",
       "    </tr>\n",
       "  </thead>\n",
       "  <tbody>\n",
       "    <tr>\n",
       "      <th>0</th>\n",
       "      <td>1.0</td>\n",
       "      <td>1.0</td>\n",
       "    </tr>\n",
       "    <tr>\n",
       "      <th>1</th>\n",
       "      <td>2.0</td>\n",
       "      <td>1.0</td>\n",
       "    </tr>\n",
       "    <tr>\n",
       "      <th>2</th>\n",
       "      <td>1.0</td>\n",
       "      <td>1.0</td>\n",
       "    </tr>\n",
       "    <tr>\n",
       "      <th>3</th>\n",
       "      <td>0.0</td>\n",
       "      <td>0.0</td>\n",
       "    </tr>\n",
       "    <tr>\n",
       "      <th>4</th>\n",
       "      <td>1.0</td>\n",
       "      <td>1.0</td>\n",
       "    </tr>\n",
       "    <tr>\n",
       "      <th>...</th>\n",
       "      <td>...</td>\n",
       "      <td>...</td>\n",
       "    </tr>\n",
       "    <tr>\n",
       "      <th>1042659</th>\n",
       "      <td>15.0</td>\n",
       "      <td>15.0</td>\n",
       "    </tr>\n",
       "    <tr>\n",
       "      <th>1042660</th>\n",
       "      <td>10.0</td>\n",
       "      <td>10.0</td>\n",
       "    </tr>\n",
       "    <tr>\n",
       "      <th>1042661</th>\n",
       "      <td>11.0</td>\n",
       "      <td>11.0</td>\n",
       "    </tr>\n",
       "    <tr>\n",
       "      <th>1042662</th>\n",
       "      <td>2.0</td>\n",
       "      <td>2.0</td>\n",
       "    </tr>\n",
       "    <tr>\n",
       "      <th>1042663</th>\n",
       "      <td>1.0</td>\n",
       "      <td>1.0</td>\n",
       "    </tr>\n",
       "  </tbody>\n",
       "</table>\n",
       "<p>1042664 rows × 2 columns</p>\n",
       "</div>"
      ],
      "text/plain": [
       "         SALES_SIGNAL_PY  py_qty_sold_on_hand\n",
       "0                    1.0                  1.0\n",
       "1                    2.0                  1.0\n",
       "2                    1.0                  1.0\n",
       "3                    0.0                  0.0\n",
       "4                    1.0                  1.0\n",
       "...                  ...                  ...\n",
       "1042659             15.0                 15.0\n",
       "1042660             10.0                 10.0\n",
       "1042661             11.0                 11.0\n",
       "1042662              2.0                  2.0\n",
       "1042663              1.0                  1.0\n",
       "\n",
       "[1042664 rows x 2 columns]"
      ]
     },
     "execution_count": 104,
     "metadata": {},
     "output_type": "execute_result"
    }
   ],
   "source": [
    "filters_pi_model[['SALES_SIGNAL_PY','py_qty_sold_on_hand']]"
   ]
  },
  {
   "cell_type": "code",
   "execution_count": 25,
   "id": "21b7f946",
   "metadata": {},
   "outputs": [],
   "source": [
    "# DROPPING EQUAL VARIABLES,TOO CORRELATED PREDICTORS, OR EQUAL TO 0\n",
    "del filters_pi_model['AVG_CLUSTER_UNIT_SALES_PY']\n",
    "del filters_pi_model['ADJ_AVG_CLUSTER_TOTAL_SALES_PY']\n",
    "del filters_pi_model['SALES_SIGNAL_PY']\n",
    "del filters_pi_model['py_qty_sold_on_hand']\n",
    "del filters_pi_model['ppy_qty_sold_on_hand']\n",
    "del filters_pi_model['ADJUSTED_LIFECYCLE_PY']\n",
    "del filters_pi_model['ADJUSTED_AVG_CLUSTER_SALES_PY']\n",
    "del filters_pi_model['ppy_gross_sales']\n",
    "del filters_pi_model['ppy_sales_cost']\n",
    "del filters_pi_model['py_sales_cost']\n",
    "del filters_pi_model['SKU_STORE_PDQ_PY']\n",
    "del filters_pi_model['UNADJUSTED_TOTAL_VIO_PY']\n",
    "del filters_pi_model['AVG_CLUSTER_LOST_SALES_PY']\n",
    "del filters_pi_model['ADJ_AVG_CLUSTER_LOST_SALES_PY']"
   ]
  },
  {
   "cell_type": "code",
   "execution_count": 13,
   "id": "0c6d4bd1",
   "metadata": {},
   "outputs": [
    {
     "data": {
      "text/plain": [
       "<AxesSubplot:>"
      ]
     },
     "execution_count": 13,
     "metadata": {},
     "output_type": "execute_result"
    },
    {
     "data": {
      "image/png": "[encoded data removed]",
      "text/plain": [
       "<Figure size 864x576 with 2 Axes>"
      ]
     },
     "metadata": {
      "needs_background": "light"
     },
     "output_type": "display_data"
    }
   ],
   "source": [
    "# Plotting AGAIN correlations above .75\n",
    "\n",
    "corr = filters_pi_model.corr()\n",
    "\n",
    "kot = corr[corr>=.75]\n",
    "plt.figure(figsize=(12,8))\n",
    "sns.heatmap(kot, cmap=\"Greens\")"
   ]
  },
  {
   "cell_type": "code",
   "execution_count": 26,
   "id": "68baa2f7",
   "metadata": {},
   "outputs": [
    {
     "name": "stdout",
     "output_type": "stream",
     "text": [
      "(1042664, 20)\n"
     ]
    }
   ],
   "source": [
    "# Finals variables\n",
    "\n",
    "filters_pi_model['Target'] = filters_pi_model['QTY_SOLD_CY']\n",
    "\n",
    "del filters_pi_model['STORE_NUMBER']\n",
    "del filters_pi_model['SKU_NUMBER']\n",
    "del filters_pi_model['QTY_SOLD_CY']\n",
    "\n",
    "print(filters_pi_model.shape)"
   ]
  },
  {
   "cell_type": "code",
   "execution_count": 7,
   "id": "ad347bf5",
   "metadata": {},
   "outputs": [
    {
     "data": {
      "text/plain": [
       "count    1.042664e+06\n",
       "mean     2.543162e+00\n",
       "std      1.022256e+01\n",
       "min     -1.700000e+01\n",
       "25%      0.000000e+00\n",
       "50%      1.000000e+00\n",
       "75%      3.000000e+00\n",
       "max      5.704000e+03\n",
       "Name: Target, dtype: float64"
      ]
     },
     "execution_count": 7,
     "metadata": {},
     "output_type": "execute_result"
    }
   ],
   "source": [
    "filters_pi_model.Target.describe()"
   ]
  },
  {
   "cell_type": "code",
   "execution_count": 8,
   "id": "01b7f98f",
   "metadata": {},
   "outputs": [
    {
     "name": "stderr",
     "output_type": "stream",
     "text": [
      "/apps/cent7/jupyterhub/lib/python3.9/site-packages/seaborn/distributions.py:2619: FutureWarning: `distplot` is a deprecated function and will be removed in a future version. Please adapt your code to use either `displot` (a figure-level function with similar flexibility) or `histplot` (an axes-level function for histograms).\n",
      "  warnings.warn(msg, FutureWarning)\n"
     ]
    },
    {
     "data": {
      "text/plain": [
       "<AxesSubplot:xlabel='Target', ylabel='Density'>"
      ]
     },
     "execution_count": 8,
     "metadata": {},
     "output_type": "execute_result"
    },
    {
     "data": {
      "image/png": "[encoded data removed]",
      "text/plain": [
       "<Figure size 432x288 with 1 Axes>"
      ]
     },
     "metadata": {
      "needs_background": "light"
     },
     "output_type": "display_data"
    }
   ],
   "source": [
    "sns.distplot(filters_pi_model['Target'])"
   ]
  },
  {
   "cell_type": "code",
   "execution_count": 9,
   "id": "6763f4a2",
   "metadata": {},
   "outputs": [
    {
     "data": {
      "text/plain": [
       "<AxesSubplot:>"
      ]
     },
     "execution_count": 9,
     "metadata": {},
     "output_type": "execute_result"
    },
    {
     "data": {
      "image/png": "[encoded data removed]",
      "text/plain": [
       "<Figure size 432x288 with 1 Axes>"
      ]
     },
     "metadata": {
      "needs_background": "light"
     },
     "output_type": "display_data"
    }
   ],
   "source": [
    "filters_pi_model.Target.hist(bins=32)"
   ]
  },
  {
   "cell_type": "code",
   "execution_count": 14,
   "id": "06e4e19b",
   "metadata": {},
   "outputs": [
    {
     "name": "stdout",
     "output_type": "stream",
     "text": [
      "<class 'pandas.core.frame.DataFrame'>\n",
      "RangeIndex: 1042664 entries, 0 to 1042663\n",
      "Data columns (total 20 columns):\n",
      " #   Column                      Non-Null Count    Dtype  \n",
      "---  ------                      --------------    -----  \n",
      " 0   APPLICATION_COUNT           1042664 non-null  int64  \n",
      " 1   ESTABLISHMENTS              1042664 non-null  float64\n",
      " 2   SKU_EXISTENCE_PY            1042664 non-null  int64  \n",
      " 3   TOTAL_VIO_PY                1042664 non-null  float64\n",
      " 4   SS_SALES_PY                 1042664 non-null  float64\n",
      " 5   VIO_COMPARED_TO_CLUSTER_PY  1042664 non-null  float64\n",
      " 6   QTY_SOLD_PPY                1042664 non-null  float64\n",
      " 7   QTY_SOLD_PY                 1042664 non-null  float64\n",
      " 8   AVG_CLUSTER_TOTAL_SALES_PY  1042664 non-null  float64\n",
      " 9   FAILURE_SALES_PY            1042664 non-null  float64\n",
      " 10  LIFECYCLE_PY                1042664 non-null  float64\n",
      " 11  py_unit_sales               1042664 non-null  float64\n",
      " 12  ppy_unit_sales              1042664 non-null  float64\n",
      " 13  py_gross_sales              1042664 non-null  float64\n",
      " 14  LOOKUP_CNT_PY               1042664 non-null  float64\n",
      " 15  WEIGHTED_LOOKUP_CNT_PY      1042664 non-null  float64\n",
      " 16  py_qty_sold_transfer        1042664 non-null  float64\n",
      " 17  ppy_qty_sold_transfer       1042664 non-null  float64\n",
      " 18  fy_ts_forecast              1042664 non-null  float64\n",
      " 19  Target                      1042664 non-null  float64\n",
      "dtypes: float64(18), int64(2)\n",
      "memory usage: 159.1 MB\n"
     ]
    }
   ],
   "source": [
    "filters_pi_model.info()"
   ]
  },
  {
   "cell_type": "code",
   "execution_count": 15,
   "id": "8a930aae",
   "metadata": {},
   "outputs": [
    {
     "data": {
      "text/html": [
       "<div>\n",
       "<style scoped>\n",
       "    .dataframe tbody tr th:only-of-type {\n",
       "        vertical-align: middle;\n",
       "    }\n",
       "\n",
       "    .dataframe tbody tr th {\n",
       "        vertical-align: top;\n",
       "    }\n",
       "\n",
       "    .dataframe thead th {\n",
       "        text-align: right;\n",
       "    }\n",
       "</style>\n",
       "<table border=\"1\" class=\"dataframe\">\n",
       "  <thead>\n",
       "    <tr style=\"text-align: right;\">\n",
       "      <th></th>\n",
       "      <th>count</th>\n",
       "      <th>mean</th>\n",
       "      <th>std</th>\n",
       "      <th>min</th>\n",
       "      <th>25%</th>\n",
       "      <th>50%</th>\n",
       "      <th>75%</th>\n",
       "      <th>max</th>\n",
       "    </tr>\n",
       "  </thead>\n",
       "  <tbody>\n",
       "    <tr>\n",
       "      <th>APPLICATION_COUNT</th>\n",
       "      <td>1042664.0</td>\n",
       "      <td>333.472750</td>\n",
       "      <td>1460.062680</td>\n",
       "      <td>0.000000</td>\n",
       "      <td>36.000000</td>\n",
       "      <td>104.000000</td>\n",
       "      <td>277.000000</td>\n",
       "      <td>18130.000000</td>\n",
       "    </tr>\n",
       "    <tr>\n",
       "      <th>ESTABLISHMENTS</th>\n",
       "      <td>1042664.0</td>\n",
       "      <td>352.904610</td>\n",
       "      <td>256.422029</td>\n",
       "      <td>0.000000</td>\n",
       "      <td>198.280000</td>\n",
       "      <td>305.340000</td>\n",
       "      <td>450.810000</td>\n",
       "      <td>2462.500000</td>\n",
       "    </tr>\n",
       "    <tr>\n",
       "      <th>SKU_EXISTENCE_PY</th>\n",
       "      <td>1042664.0</td>\n",
       "      <td>10.606806</td>\n",
       "      <td>1.709068</td>\n",
       "      <td>0.000000</td>\n",
       "      <td>11.000000</td>\n",
       "      <td>11.000000</td>\n",
       "      <td>11.000000</td>\n",
       "      <td>11.000000</td>\n",
       "    </tr>\n",
       "    <tr>\n",
       "      <th>TOTAL_VIO_PY</th>\n",
       "      <td>1042664.0</td>\n",
       "      <td>150.390248</td>\n",
       "      <td>692.974600</td>\n",
       "      <td>0.000000</td>\n",
       "      <td>12.900711</td>\n",
       "      <td>48.249230</td>\n",
       "      <td>115.962946</td>\n",
       "      <td>29509.149324</td>\n",
       "    </tr>\n",
       "    <tr>\n",
       "      <th>SS_SALES_PY</th>\n",
       "      <td>1042664.0</td>\n",
       "      <td>0.000046</td>\n",
       "      <td>0.024385</td>\n",
       "      <td>0.000000</td>\n",
       "      <td>0.000000</td>\n",
       "      <td>0.000000</td>\n",
       "      <td>0.000000</td>\n",
       "      <td>24.000000</td>\n",
       "    </tr>\n",
       "    <tr>\n",
       "      <th>VIO_COMPARED_TO_CLUSTER_PY</th>\n",
       "      <td>1042664.0</td>\n",
       "      <td>1.000147</td>\n",
       "      <td>0.334514</td>\n",
       "      <td>0.140124</td>\n",
       "      <td>0.783655</td>\n",
       "      <td>0.987045</td>\n",
       "      <td>1.148257</td>\n",
       "      <td>5.221004</td>\n",
       "    </tr>\n",
       "    <tr>\n",
       "      <th>QTY_SOLD_PPY</th>\n",
       "      <td>1042664.0</td>\n",
       "      <td>2.189446</td>\n",
       "      <td>5.903708</td>\n",
       "      <td>-6.000000</td>\n",
       "      <td>0.000000</td>\n",
       "      <td>0.000000</td>\n",
       "      <td>2.000000</td>\n",
       "      <td>1261.000000</td>\n",
       "    </tr>\n",
       "    <tr>\n",
       "      <th>QTY_SOLD_PY</th>\n",
       "      <td>1042664.0</td>\n",
       "      <td>2.357584</td>\n",
       "      <td>8.255684</td>\n",
       "      <td>-12.000000</td>\n",
       "      <td>0.000000</td>\n",
       "      <td>1.000000</td>\n",
       "      <td>3.000000</td>\n",
       "      <td>4020.000000</td>\n",
       "    </tr>\n",
       "    <tr>\n",
       "      <th>AVG_CLUSTER_TOTAL_SALES_PY</th>\n",
       "      <td>1042664.0</td>\n",
       "      <td>2.146858</td>\n",
       "      <td>3.521330</td>\n",
       "      <td>-1.000000</td>\n",
       "      <td>0.300000</td>\n",
       "      <td>1.200000</td>\n",
       "      <td>2.700000</td>\n",
       "      <td>119.000000</td>\n",
       "    </tr>\n",
       "    <tr>\n",
       "      <th>FAILURE_SALES_PY</th>\n",
       "      <td>1042664.0</td>\n",
       "      <td>8.016105</td>\n",
       "      <td>14.002833</td>\n",
       "      <td>0.000000</td>\n",
       "      <td>1.197686</td>\n",
       "      <td>3.717206</td>\n",
       "      <td>8.708359</td>\n",
       "      <td>434.895853</td>\n",
       "    </tr>\n",
       "    <tr>\n",
       "      <th>LIFECYCLE_PY</th>\n",
       "      <td>1042664.0</td>\n",
       "      <td>0.876792</td>\n",
       "      <td>0.712706</td>\n",
       "      <td>0.000000</td>\n",
       "      <td>0.400000</td>\n",
       "      <td>0.750000</td>\n",
       "      <td>1.430000</td>\n",
       "      <td>3.040000</td>\n",
       "    </tr>\n",
       "    <tr>\n",
       "      <th>py_unit_sales</th>\n",
       "      <td>1042664.0</td>\n",
       "      <td>10120.887134</td>\n",
       "      <td>11887.288292</td>\n",
       "      <td>0.000000</td>\n",
       "      <td>3440.000000</td>\n",
       "      <td>7197.000000</td>\n",
       "      <td>12848.000000</td>\n",
       "      <td>102773.000000</td>\n",
       "    </tr>\n",
       "    <tr>\n",
       "      <th>ppy_unit_sales</th>\n",
       "      <td>1042664.0</td>\n",
       "      <td>9334.071783</td>\n",
       "      <td>14097.737653</td>\n",
       "      <td>0.000000</td>\n",
       "      <td>1113.000000</td>\n",
       "      <td>3989.000000</td>\n",
       "      <td>12023.000000</td>\n",
       "      <td>97205.000000</td>\n",
       "    </tr>\n",
       "    <tr>\n",
       "      <th>py_gross_sales</th>\n",
       "      <td>1042664.0</td>\n",
       "      <td>36.210368</td>\n",
       "      <td>84.782457</td>\n",
       "      <td>-299.950000</td>\n",
       "      <td>0.000000</td>\n",
       "      <td>12.000000</td>\n",
       "      <td>40.800000</td>\n",
       "      <td>7795.370000</td>\n",
       "    </tr>\n",
       "    <tr>\n",
       "      <th>LOOKUP_CNT_PY</th>\n",
       "      <td>1042664.0</td>\n",
       "      <td>2.964554</td>\n",
       "      <td>13.859292</td>\n",
       "      <td>0.000000</td>\n",
       "      <td>0.000000</td>\n",
       "      <td>0.000000</td>\n",
       "      <td>0.000000</td>\n",
       "      <td>1329.000000</td>\n",
       "    </tr>\n",
       "    <tr>\n",
       "      <th>WEIGHTED_LOOKUP_CNT_PY</th>\n",
       "      <td>1042664.0</td>\n",
       "      <td>0.760574</td>\n",
       "      <td>3.721760</td>\n",
       "      <td>0.000000</td>\n",
       "      <td>0.000000</td>\n",
       "      <td>0.000000</td>\n",
       "      <td>0.000000</td>\n",
       "      <td>322.618200</td>\n",
       "    </tr>\n",
       "    <tr>\n",
       "      <th>py_qty_sold_transfer</th>\n",
       "      <td>1042664.0</td>\n",
       "      <td>0.067534</td>\n",
       "      <td>0.762835</td>\n",
       "      <td>-9.000000</td>\n",
       "      <td>0.000000</td>\n",
       "      <td>0.000000</td>\n",
       "      <td>0.000000</td>\n",
       "      <td>360.000000</td>\n",
       "    </tr>\n",
       "    <tr>\n",
       "      <th>ppy_qty_sold_transfer</th>\n",
       "      <td>1042664.0</td>\n",
       "      <td>0.059930</td>\n",
       "      <td>1.003826</td>\n",
       "      <td>-14.000000</td>\n",
       "      <td>0.000000</td>\n",
       "      <td>0.000000</td>\n",
       "      <td>0.000000</td>\n",
       "      <td>595.000000</td>\n",
       "    </tr>\n",
       "    <tr>\n",
       "      <th>fy_ts_forecast</th>\n",
       "      <td>1042664.0</td>\n",
       "      <td>10934.686654</td>\n",
       "      <td>12106.743168</td>\n",
       "      <td>0.000000</td>\n",
       "      <td>3650.000000</td>\n",
       "      <td>7875.000000</td>\n",
       "      <td>13980.000000</td>\n",
       "      <td>114328.000000</td>\n",
       "    </tr>\n",
       "    <tr>\n",
       "      <th>Target</th>\n",
       "      <td>1042664.0</td>\n",
       "      <td>2.543162</td>\n",
       "      <td>10.222564</td>\n",
       "      <td>-17.000000</td>\n",
       "      <td>0.000000</td>\n",
       "      <td>1.000000</td>\n",
       "      <td>3.000000</td>\n",
       "      <td>5704.000000</td>\n",
       "    </tr>\n",
       "  </tbody>\n",
       "</table>\n",
       "</div>"
      ],
      "text/plain": [
       "                                count          mean           std         min  \\\n",
       "APPLICATION_COUNT           1042664.0    333.472750   1460.062680    0.000000   \n",
       "ESTABLISHMENTS              1042664.0    352.904610    256.422029    0.000000   \n",
       "SKU_EXISTENCE_PY            1042664.0     10.606806      1.709068    0.000000   \n",
       "TOTAL_VIO_PY                1042664.0    150.390248    692.974600    0.000000   \n",
       "SS_SALES_PY                 1042664.0      0.000046      0.024385    0.000000   \n",
       "VIO_COMPARED_TO_CLUSTER_PY  1042664.0      1.000147      0.334514    0.140124   \n",
       "QTY_SOLD_PPY                1042664.0      2.189446      5.903708   -6.000000   \n",
       "QTY_SOLD_PY                 1042664.0      2.357584      8.255684  -12.000000   \n",
       "AVG_CLUSTER_TOTAL_SALES_PY  1042664.0      2.146858      3.521330   -1.000000   \n",
       "FAILURE_SALES_PY            1042664.0      8.016105     14.002833    0.000000   \n",
       "LIFECYCLE_PY                1042664.0      0.876792      0.712706    0.000000   \n",
       "py_unit_sales               1042664.0  10120.887134  11887.288292    0.000000   \n",
       "ppy_unit_sales              1042664.0   9334.071783  14097.737653    0.000000   \n",
       "py_gross_sales              1042664.0     36.210368     84.782457 -299.950000   \n",
       "LOOKUP_CNT_PY               1042664.0      2.964554     13.859292    0.000000   \n",
       "WEIGHTED_LOOKUP_CNT_PY      1042664.0      0.760574      3.721760    0.000000   \n",
       "py_qty_sold_transfer        1042664.0      0.067534      0.762835   -9.000000   \n",
       "ppy_qty_sold_transfer       1042664.0      0.059930      1.003826  -14.000000   \n",
       "fy_ts_forecast              1042664.0  10934.686654  12106.743168    0.000000   \n",
       "Target                      1042664.0      2.543162     10.222564  -17.000000   \n",
       "\n",
       "                                    25%          50%           75%  \\\n",
       "APPLICATION_COUNT             36.000000   104.000000    277.000000   \n",
       "ESTABLISHMENTS               198.280000   305.340000    450.810000   \n",
       "SKU_EXISTENCE_PY              11.000000    11.000000     11.000000   \n",
       "TOTAL_VIO_PY                  12.900711    48.249230    115.962946   \n",
       "SS_SALES_PY                    0.000000     0.000000      0.000000   \n",
       "VIO_COMPARED_TO_CLUSTER_PY     0.783655     0.987045      1.148257   \n",
       "QTY_SOLD_PPY                   0.000000     0.000000      2.000000   \n",
       "QTY_SOLD_PY                    0.000000     1.000000      3.000000   \n",
       "AVG_CLUSTER_TOTAL_SALES_PY     0.300000     1.200000      2.700000   \n",
       "FAILURE_SALES_PY               1.197686     3.717206      8.708359   \n",
       "LIFECYCLE_PY                   0.400000     0.750000      1.430000   \n",
       "py_unit_sales               3440.000000  7197.000000  12848.000000   \n",
       "ppy_unit_sales              1113.000000  3989.000000  12023.000000   \n",
       "py_gross_sales                 0.000000    12.000000     40.800000   \n",
       "LOOKUP_CNT_PY                  0.000000     0.000000      0.000000   \n",
       "WEIGHTED_LOOKUP_CNT_PY         0.000000     0.000000      0.000000   \n",
       "py_qty_sold_transfer           0.000000     0.000000      0.000000   \n",
       "ppy_qty_sold_transfer          0.000000     0.000000      0.000000   \n",
       "fy_ts_forecast              3650.000000  7875.000000  13980.000000   \n",
       "Target                         0.000000     1.000000      3.000000   \n",
       "\n",
       "                                      max  \n",
       "APPLICATION_COUNT            18130.000000  \n",
       "ESTABLISHMENTS                2462.500000  \n",
       "SKU_EXISTENCE_PY                11.000000  \n",
       "TOTAL_VIO_PY                 29509.149324  \n",
       "SS_SALES_PY                     24.000000  \n",
       "VIO_COMPARED_TO_CLUSTER_PY       5.221004  \n",
       "QTY_SOLD_PPY                  1261.000000  \n",
       "QTY_SOLD_PY                   4020.000000  \n",
       "AVG_CLUSTER_TOTAL_SALES_PY     119.000000  \n",
       "FAILURE_SALES_PY               434.895853  \n",
       "LIFECYCLE_PY                     3.040000  \n",
       "py_unit_sales               102773.000000  \n",
       "ppy_unit_sales               97205.000000  \n",
       "py_gross_sales                7795.370000  \n",
       "LOOKUP_CNT_PY                 1329.000000  \n",
       "WEIGHTED_LOOKUP_CNT_PY         322.618200  \n",
       "py_qty_sold_transfer           360.000000  \n",
       "ppy_qty_sold_transfer          595.000000  \n",
       "fy_ts_forecast              114328.000000  \n",
       "Target                        5704.000000  "
      ]
     },
     "execution_count": 15,
     "metadata": {},
     "output_type": "execute_result"
    }
   ],
   "source": [
    "filters_pi_model.describe().T"
   ]
  },
  {
   "cell_type": "code",
   "execution_count": 27,
   "id": "5d5dd411",
   "metadata": {},
   "outputs": [],
   "source": [
    "# Splitting the data into training and test dataset\n",
    "X = filters_pi_model.drop('Target',axis=1).values\n",
    "y = filters_pi_model.Target.values\n",
    "X_train, X_test, y_train, y_test = train_test_split(X, y, test_size=0.2, random_state=123)\n",
    "X_train, X_val, y_train, y_val = train_test_split(X_train, y_train, test_size=0.25, random_state=123)"
   ]
  },
  {
   "cell_type": "code",
   "execution_count": 28,
   "id": "ac31636c",
   "metadata": {},
   "outputs": [],
   "source": [
    "# Using sklearn StandardScaler for Predictors and Target\n",
    "\n",
    "scaler = StandardScaler()\n",
    "X_train_sc = scaler.fit_transform(X_train)\n",
    "X_val_sc = scaler.transform(X_val)\n",
    "X_test_sc = scaler.transform(X_test)"
   ]
  },
  {
   "cell_type": "markdown",
   "id": "4bfa2fe9",
   "metadata": {},
   "source": [
    "# LASSO"
   ]
  },
  {
   "cell_type": "code",
   "execution_count": 11,
   "id": "89ddd56b",
   "metadata": {},
   "outputs": [
    {
     "name": "stdout",
     "output_type": "stream",
     "text": [
      "RMSE Training set: 5.575104\n",
      "RMSE Validation set: 3.891368\n"
     ]
    }
   ],
   "source": [
    "# Lasso Model\n",
    "\n",
    "from sklearn.linear_model import Lasso\n",
    "from sklearn.metrics import mean_squared_error\n",
    "from math import sqrt\n",
    "\n",
    "reg = Lasso(alpha=1)\n",
    "reg.fit(X_train_sc, y_train)\n",
    "\n",
    "# Training data\n",
    "pred_train = reg.predict(X_train_sc)\n",
    "mse_train = mean_squared_error(y_train, pred_train)\n",
    "rmse_t = sqrt(mse_train)\n",
    "print('RMSE Training set: %f' % rmse_t)\n",
    "\n",
    "# Validation data\n",
    "pred = reg.predict(X_val_sc)\n",
    "mse_val = mean_squared_error(y_val, pred)\n",
    "rmse_val = sqrt(mse_val)\n",
    "print('RMSE Validation set: %f' % rmse_val)"
   ]
  },
  {
   "cell_type": "code",
   "execution_count": 12,
   "id": "1a2dbf5e",
   "metadata": {},
   "outputs": [
    {
     "name": "stdout",
     "output_type": "stream",
     "text": [
      "RMSE Test set: 3.996970\n"
     ]
    }
   ],
   "source": [
    "# Test data\n",
    "pred = reg.predict(X_test_sc)\n",
    "mse_test =mean_squared_error(y_test, pred)\n",
    "rmse_test= sqrt(mse_test)\n",
    "print('RMSE Test set: %f' % rmse_test)"
   ]
  },
  {
   "cell_type": "code",
   "execution_count": 13,
   "id": "40ed4b60",
   "metadata": {},
   "outputs": [
    {
     "data": {
      "text/plain": [
       "LassoCV(cv=10, max_iter=10000, random_state=0)"
      ]
     },
     "execution_count": 13,
     "metadata": {},
     "output_type": "execute_result"
    }
   ],
   "source": [
    "# Best Lasso\n",
    "from sklearn.linear_model import LassoCV\n",
    "# Lasso with 10 fold cross-validation\n",
    "model = LassoCV(cv=10, random_state=0, max_iter=10000)\n",
    "model.fit(X_train_sc, y_train)"
   ]
  },
  {
   "cell_type": "code",
   "execution_count": 14,
   "id": "455e3bae",
   "metadata": {},
   "outputs": [
    {
     "name": "stdout",
     "output_type": "stream",
     "text": [
      "0.01726675568007616\n"
     ]
    }
   ],
   "source": [
    "print(model.alpha_)"
   ]
  },
  {
   "cell_type": "code",
   "execution_count": 15,
   "id": "9d5f2d69",
   "metadata": {},
   "outputs": [
    {
     "name": "stdout",
     "output_type": "stream",
     "text": [
      "RMSE Training set: 4.983484\n",
      "RMSE Validation set: 3.803584\n"
     ]
    }
   ],
   "source": [
    "lasso_best = Lasso(alpha=model.alpha_)\n",
    "lasso_best.fit(X_train_sc, y_train)\n",
    "\n",
    "# Training data\n",
    "pred_train = lasso_best.predict(X_train_sc)\n",
    "mse_train = mean_squared_error(y_train, pred_train)\n",
    "rmse_t = sqrt(mse_train)\n",
    "print('RMSE Training set: %f' % rmse_t)\n",
    "\n",
    "# Validation data\n",
    "pred = lasso_best.predict(X_val_sc)\n",
    "mse_val =mean_squared_error(y_val, pred)\n",
    "rmse_val = sqrt(mse_val)\n",
    "print('RMSE Validation set: %f' % rmse_val)"
   ]
  },
  {
   "cell_type": "code",
   "execution_count": 16,
   "id": "25331ce5",
   "metadata": {},
   "outputs": [
    {
     "data": {
      "text/plain": [
       "array([-0.0543223 ,  0.10626822,  0.        ,  0.        , -0.04144774,\n",
       "        0.02987908, -0.18226874, 11.00220145,  0.05648297,  0.09565357,\n",
       "       -0.04081372, -0.04305296, -0.54532378, -3.08914671,  0.22761573,\n",
       "        0.12758673, -0.27449391, -0.03374983,  0.97891611])"
      ]
     },
     "execution_count": 16,
     "metadata": {},
     "output_type": "execute_result"
    }
   ],
   "source": [
    "lasso_best.coef_"
   ]
  },
  {
   "cell_type": "code",
   "execution_count": 17,
   "id": "41f02218",
   "metadata": {},
   "outputs": [
    {
     "name": "stdout",
     "output_type": "stream",
     "text": [
      "RMSE Test set: 4.049557\n"
     ]
    }
   ],
   "source": [
    "# Test data\n",
    "pred = lasso_best.predict(X_test_sc)\n",
    "mse_test =mean_squared_error(y_test, pred)\n",
    "rmse_test= sqrt(mse_test)\n",
    "print('RMSE Test set: %f' % rmse_test)"
   ]
  },
  {
   "cell_type": "markdown",
   "id": "c31ef83d",
   "metadata": {},
   "source": [
    "# MULTIPLE LINEAR REGRESSION"
   ]
  },
  {
   "cell_type": "code",
   "execution_count": 18,
   "id": "a4f11c31",
   "metadata": {},
   "outputs": [
    {
     "data": {
      "text/plain": [
       "LinearRegression()"
      ]
     },
     "execution_count": 18,
     "metadata": {},
     "output_type": "execute_result"
    }
   ],
   "source": [
    "from sklearn.linear_model import LinearRegression\n",
    "# creating an object of LinearRegression class\n",
    "LR = LinearRegression()\n",
    "# fitting the training data\n",
    "LR.fit(X_train_sc, y_train)"
   ]
  },
  {
   "cell_type": "code",
   "execution_count": 19,
   "id": "d02723ad",
   "metadata": {},
   "outputs": [
    {
     "name": "stdout",
     "output_type": "stream",
     "text": [
      "RMSE Training set: 4.982042\n",
      "RMSE Validation set: 3.805782\n",
      "RMSE Test set: 4.070064\n"
     ]
    }
   ],
   "source": [
    "# Training data\n",
    "pred_train = LR.predict(X_train_sc)\n",
    "mse_train = mean_squared_error(y_train, pred_train)\n",
    "rmse_t = sqrt(mse_train)\n",
    "print('RMSE Training set: %f' % rmse_t)\n",
    "\n",
    "# Validation data\n",
    "pred = LR.predict(X_val_sc)\n",
    "mse_val = mean_squared_error(y_val, pred)\n",
    "rmse_val = sqrt(mse_val)\n",
    "print('RMSE Validation set: %f' % rmse_val)\n",
    "\n",
    "# Test data\n",
    "pred = LR.predict(X_test_sc)\n",
    "mse_test =mean_squared_error(y_test, pred)\n",
    "rmse_test= sqrt(mse_test)\n",
    "print('RMSE Test set: %f' % rmse_test)"
   ]
  },
  {
   "cell_type": "markdown",
   "id": "c309bd50",
   "metadata": {},
   "source": [
    "# POLYNOMIAL REGRESSION"
   ]
  },
  {
   "cell_type": "code",
   "execution_count": 28,
   "id": "325dca2b",
   "metadata": {},
   "outputs": [
    {
     "data": {
      "text/plain": [
       "Pipeline(steps=[('poly', PolynomialFeatures()),\n",
       "                ('linear', LinearRegression(fit_intercept=False))])"
      ]
     },
     "execution_count": 28,
     "metadata": {},
     "output_type": "execute_result"
    }
   ],
   "source": [
    "from sklearn.preprocessing import PolynomialFeatures\n",
    "from sklearn.linear_model import LinearRegression\n",
    "from sklearn.pipeline import Pipeline\n",
    "\n",
    "model = Pipeline([('poly', PolynomialFeatures(degree=2)),\n",
    "                    ('linear', LinearRegression(fit_intercept=False))])\n",
    "\n",
    "model.fit(X_train_sc, y_train)"
   ]
  },
  {
   "cell_type": "code",
   "execution_count": 29,
   "id": "05093014",
   "metadata": {},
   "outputs": [
    {
     "name": "stdout",
     "output_type": "stream",
     "text": [
      "RMSE Training set: 4.072970\n",
      "RMSE Validation set: 71061273.400818\n",
      "RMSE Test set: 289653844450.376343\n"
     ]
    }
   ],
   "source": [
    "# Training data\n",
    "pred_train = model.predict(X_train_sc)\n",
    "mse_train = mean_squared_error(y_train, pred_train)\n",
    "rmse_t = sqrt(mse_train)\n",
    "print('RMSE Training set: %f' % rmse_t)\n",
    "\n",
    "# Validation data\n",
    "pred = model.predict(X_val_sc)\n",
    "mse_val = mean_squared_error(y_val, pred)\n",
    "rmse_val = sqrt(mse_val)\n",
    "print('RMSE Validation set: %f' % rmse_val)\n",
    "\n",
    "# Test data\n",
    "pred = model.predict(X_test_sc)\n",
    "mse_test =mean_squared_error(y_test, pred)\n",
    "rmse_test= sqrt(mse_test)\n",
    "print('RMSE Test set: %f' % rmse_test)"
   ]
  },
  {
   "cell_type": "code",
   "execution_count": 35,
   "id": "948c7111",
   "metadata": {},
   "outputs": [
    {
     "data": {
      "text/plain": [
       "Pipeline(steps=[('poly', PolynomialFeatures()),\n",
       "                ('linear', LinearRegression(fit_intercept=False))])"
      ]
     },
     "execution_count": 35,
     "metadata": {},
     "output_type": "execute_result"
    }
   ],
   "source": [
    "model = Pipeline([('poly', PolynomialFeatures(degree=2)),\n",
    "                    ('linear', LinearRegression(fit_intercept=False))])\n",
    "\n",
    "model.fit(X_train, y_train)"
   ]
  },
  {
   "cell_type": "code",
   "execution_count": 36,
   "id": "3a57a709",
   "metadata": {},
   "outputs": [
    {
     "name": "stdout",
     "output_type": "stream",
     "text": [
      "RMSE Training set: 4.072954\n",
      "RMSE Validation set: 5.648243\n",
      "RMSE Test set: 11.900884\n"
     ]
    }
   ],
   "source": [
    "# Training data\n",
    "pred_train = model.predict(X_train)\n",
    "mse_train = mean_squared_error(y_train, pred_train)\n",
    "rmse_t = sqrt(mse_train)\n",
    "print('RMSE Training set: %f' % rmse_t)\n",
    "\n",
    "# Validation data\n",
    "pred = model.predict(X_val)\n",
    "mse_val = mean_squared_error(y_val, pred)\n",
    "rmse_val = sqrt(mse_val)\n",
    "print('RMSE Validation set: %f' % rmse_val)\n",
    "\n",
    "# Test data\n",
    "pred = model.predict(X_test)\n",
    "mse_test =mean_squared_error(y_test, pred)\n",
    "rmse_test= sqrt(mse_test)\n",
    "print('RMSE Test set: %f' % rmse_test)"
   ]
  },
  {
   "cell_type": "code",
   "execution_count": 37,
   "id": "8e6841ec",
   "metadata": {},
   "outputs": [
    {
     "data": {
      "text/plain": [
       "Pipeline(steps=[('poly', PolynomialFeatures(interaction_only=True)),\n",
       "                ('linear', LinearRegression(fit_intercept=False))])"
      ]
     },
     "execution_count": 37,
     "metadata": {},
     "output_type": "execute_result"
    }
   ],
   "source": [
    "model = Pipeline([('poly', PolynomialFeatures(interaction_only=True)),\n",
    "                    ('linear', LinearRegression(fit_intercept=False))])\n",
    "\n",
    "model.fit(X_train_sc, y_train)"
   ]
  },
  {
   "cell_type": "code",
   "execution_count": 38,
   "id": "cfdf270d",
   "metadata": {},
   "outputs": [
    {
     "name": "stdout",
     "output_type": "stream",
     "text": [
      "RMSE Training set: 4.111898\n",
      "RMSE Validation set: 6.023968\n",
      "RMSE Test set: 4994422308.295555\n"
     ]
    }
   ],
   "source": [
    "# Training data\n",
    "pred_train = model.predict(X_train_sc)\n",
    "mse_train = mean_squared_error(y_train, pred_train)\n",
    "rmse_t = sqrt(mse_train)\n",
    "print('RMSE Training set: %f' % rmse_t)\n",
    "\n",
    "# Validation data\n",
    "pred = model.predict(X_val_sc)\n",
    "mse_val = mean_squared_error(y_val, pred)\n",
    "rmse_val = sqrt(mse_val)\n",
    "print('RMSE Validation set: %f' % rmse_val)\n",
    "\n",
    "# Test data\n",
    "pred = model.predict(X_test_sc)\n",
    "mse_test =mean_squared_error(y_test, pred)\n",
    "rmse_test= sqrt(mse_test)\n",
    "print('RMSE Test set: %f' % rmse_test)"
   ]
  },
  {
   "cell_type": "code",
   "execution_count": 39,
   "id": "ea91bb01",
   "metadata": {},
   "outputs": [
    {
     "data": {
      "text/plain": [
       "Pipeline(steps=[('poly', PolynomialFeatures(interaction_only=True)),\n",
       "                ('linear', LinearRegression(fit_intercept=False))])"
      ]
     },
     "execution_count": 39,
     "metadata": {},
     "output_type": "execute_result"
    }
   ],
   "source": [
    "model = Pipeline([('poly', PolynomialFeatures(interaction_only=True)),\n",
    "                    ('linear', LinearRegression(fit_intercept=False))])\n",
    "\n",
    "model.fit(X_train, y_train)"
   ]
  },
  {
   "cell_type": "code",
   "execution_count": 40,
   "id": "60d53fe2",
   "metadata": {},
   "outputs": [
    {
     "name": "stdout",
     "output_type": "stream",
     "text": [
      "RMSE Training set: 4.111898\n",
      "RMSE Validation set: 6.024230\n",
      "RMSE Test set: 8.438147\n"
     ]
    }
   ],
   "source": [
    "# Training data\n",
    "pred_train = model.predict(X_train)\n",
    "mse_train = mean_squared_error(y_train, pred_train)\n",
    "rmse_t = sqrt(mse_train)\n",
    "print('RMSE Training set: %f' % rmse_t)\n",
    "\n",
    "# Validation data\n",
    "pred = model.predict(X_val)\n",
    "mse_val = mean_squared_error(y_val, pred)\n",
    "rmse_val = sqrt(mse_val)\n",
    "print('RMSE Validation set: %f' % rmse_val)\n",
    "\n",
    "# Test data\n",
    "pred = model.predict(X_test)\n",
    "mse_test =mean_squared_error(y_test, pred)\n",
    "rmse_test= sqrt(mse_test)\n",
    "print('RMSE Test set: %f' % rmse_test)"
   ]
  },
  {
   "cell_type": "markdown",
   "id": "b6c07c08",
   "metadata": {},
   "source": [
    "# RANDOM FOREST REGRESSOR"
   ]
  },
  {
   "cell_type": "code",
   "execution_count": 12,
   "id": "18d01f4f",
   "metadata": {},
   "outputs": [
    {
     "data": {
      "text/plain": [
       "RandomForestRegressor(max_depth=3, random_state=0)"
      ]
     },
     "execution_count": 12,
     "metadata": {},
     "output_type": "execute_result"
    }
   ],
   "source": [
    "from sklearn.ensemble import RandomForestRegressor\n",
    "from sklearn.metrics import mean_squared_error\n",
    "from math import sqrt\n",
    "\n",
    "RF = RandomForestRegressor(max_depth=3, random_state=0)\n",
    "\n",
    "RF.fit(X_train, y_train)"
   ]
  },
  {
   "cell_type": "code",
   "execution_count": 15,
   "id": "4930ec82",
   "metadata": {},
   "outputs": [
    {
     "name": "stdout",
     "output_type": "stream",
     "text": [
      "RMSE Training set: 4.959306\n",
      "RMSE Validation set: 4.269221\n",
      "RMSE Test set: 4.160543\n"
     ]
    }
   ],
   "source": [
    "# Training data\n",
    "pred_train = RF.predict(X_train)\n",
    "mse_train = mean_squared_error(y_train, pred_train)\n",
    "rmse_t = sqrt(mse_train)\n",
    "print('RMSE Training set: %f' % rmse_t)\n",
    "\n",
    "# Validation data\n",
    "pred = RF.predict(X_val)\n",
    "mse_val = mean_squared_error(y_val, pred)\n",
    "rmse_val = sqrt(mse_val)\n",
    "print('RMSE Validation set: %f' % rmse_val)\n",
    "\n",
    "# Test data\n",
    "pred = RF.predict(X_test)\n",
    "mse_test =mean_squared_error(y_test, pred)\n",
    "rmse_test= sqrt(mse_test)\n",
    "print('RMSE Test set: %f' % rmse_test)"
   ]
  },
  {
   "cell_type": "code",
   "execution_count": 29,
   "id": "f9edeb5e",
   "metadata": {},
   "outputs": [
    {
     "data": {
      "text/plain": [
       "RandomForestRegressor(max_depth=4, n_estimators=150, random_state=0)"
      ]
     },
     "execution_count": 29,
     "metadata": {},
     "output_type": "execute_result"
    }
   ],
   "source": [
    "from sklearn.ensemble import RandomForestRegressor\n",
    "from sklearn.metrics import mean_squared_error\n",
    "from math import sqrt\n",
    "\n",
    "RF = RandomForestRegressor(n_estimators=150, max_depth=4, random_state=0)\n",
    "\n",
    "RF.fit(X_train, y_train)"
   ]
  },
  {
   "cell_type": "code",
   "execution_count": 30,
   "id": "2d5877c8",
   "metadata": {},
   "outputs": [
    {
     "name": "stdout",
     "output_type": "stream",
     "text": [
      "RMSE Training set: 4.558487\n",
      "RMSE Validation set: 3.921003\n",
      "RMSE Test set: 3.872879\n"
     ]
    }
   ],
   "source": [
    "# Training data\n",
    "pred_train = RF.predict(X_train)\n",
    "mse_train = mean_squared_error(y_train, pred_train)\n",
    "rmse_t = sqrt(mse_train)\n",
    "print('RMSE Training set: %f' % rmse_t)\n",
    "\n",
    "# Validation data\n",
    "pred = RF.predict(X_val)\n",
    "mse_val = mean_squared_error(y_val, pred)\n",
    "rmse_val = sqrt(mse_val)\n",
    "print('RMSE Validation set: %f' % rmse_val)\n",
    "\n",
    "# Test data\n",
    "pred = RF.predict(X_test)\n",
    "mse_test =mean_squared_error(y_test, pred)\n",
    "rmse_test= sqrt(mse_test)\n",
    "print('RMSE Test set: %f' % rmse_test)"
   ]
  },
  {
   "cell_type": "code",
   "execution_count": 20,
   "id": "aa1e4080",
   "metadata": {},
   "outputs": [
    {
     "data": {
      "text/plain": [
       "RandomForestRegressor(max_depth=4, max_features=3, n_estimators=130,\n",
       "                      random_state=0)"
      ]
     },
     "execution_count": 20,
     "metadata": {},
     "output_type": "execute_result"
    }
   ],
   "source": [
    "RF = RandomForestRegressor(n_estimators=130, max_depth=5, max_features=3, random_state=0)\n",
    "\n",
    "RF.fit(X_train, y_train)"
   ]
  },
  {
   "cell_type": "code",
   "execution_count": 21,
   "id": "dccd6ebb",
   "metadata": {},
   "outputs": [
    {
     "name": "stdout",
     "output_type": "stream",
     "text": [
      "RMSE Training set: 6.962499\n",
      "RMSE Validation set: 4.427458\n",
      "RMSE Test set: 6.646336\n"
     ]
    }
   ],
   "source": [
    "# Training data\n",
    "pred_train = RF.predict(X_train)\n",
    "mse_train = mean_squared_error(y_train, pred_train)\n",
    "rmse_t = sqrt(mse_train)\n",
    "print('RMSE Training set: %f' % rmse_t)\n",
    "\n",
    "# Validation data\n",
    "pred = RF.predict(X_val)\n",
    "mse_val = mean_squared_error(y_val, pred)\n",
    "rmse_val = sqrt(mse_val)\n",
    "print('RMSE Validation set: %f' % rmse_val)\n",
    "\n",
    "# Test data\n",
    "pred = RF.predict(X_test)\n",
    "mse_test =mean_squared_error(y_test, pred)\n",
    "rmse_test= sqrt(mse_test)\n",
    "print('RMSE Test set: %f' % rmse_test)"
   ]
  },
  {
   "cell_type": "code",
   "execution_count": 31,
   "id": "608559e5",
   "metadata": {},
   "outputs": [
    {
     "data": {
      "text/plain": [
       "RandomForestRegressor(max_depth=4, n_estimators=200, random_state=0)"
      ]
     },
     "execution_count": 31,
     "metadata": {},
     "output_type": "execute_result"
    }
   ],
   "source": [
    "RF = RandomForestRegressor(n_estimators=200, max_depth=4, random_state=0)\n",
    "\n",
    "RF.fit(X_train, y_train)"
   ]
  },
  {
   "cell_type": "code",
   "execution_count": 32,
   "id": "c6ef5839",
   "metadata": {},
   "outputs": [
    {
     "name": "stdout",
     "output_type": "stream",
     "text": [
      "RMSE Training set: 4.593665\n",
      "RMSE Validation set: 3.903326\n",
      "RMSE Test set: 3.899848\n"
     ]
    }
   ],
   "source": [
    "# Training data\n",
    "pred_train = RF.predict(X_train)\n",
    "mse_train = mean_squared_error(y_train, pred_train)\n",
    "rmse_t = sqrt(mse_train)\n",
    "print('RMSE Training set: %f' % rmse_t)\n",
    "\n",
    "# Validation data\n",
    "pred = RF.predict(X_val)\n",
    "mse_val = mean_squared_error(y_val, pred)\n",
    "rmse_val = sqrt(mse_val)\n",
    "print('RMSE Validation set: %f' % rmse_val)\n",
    "\n",
    "# Test data\n",
    "pred = RF.predict(X_test)\n",
    "mse_test =mean_squared_error(y_test, pred)\n",
    "rmse_test= sqrt(mse_test)\n",
    "print('RMSE Test set: %f' % rmse_test)"
   ]
  },
  {
   "cell_type": "code",
   "execution_count": null,
   "id": "9785e823",
   "metadata": {},
   "outputs": [],
   "source": []
  }
 ],
 "metadata": {
  "kernelspec": {
   "display_name": "Python 3.9 (Default)",
   "language": "python",
   "name": "python3"
  },
  "language_info": {
   "codemirror_mode": {
    "name": "ipython",
    "version": 3
   },
   "file_extension": ".py",
   "mimetype": "text/x-python",
   "name": "python",
   "nbconvert_exporter": "python",
   "pygments_lexer": "ipython3",
   "version": "3.9.7"
  }
 },
 "nbformat": 4,
 "nbformat_minor": 5
}
